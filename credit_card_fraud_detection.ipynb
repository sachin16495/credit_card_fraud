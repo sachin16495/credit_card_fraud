{
 "cells": [
  {
   "cell_type": "code",
   "execution_count": 9,
   "metadata": {},
   "outputs": [],
   "source": [
    "import pandas as pd\n",
    "import seaborn as sns\n",
    "import matplotlib.pyplot as plt\n",
    "import plotly.express as px\n",
    "import tensorflow as tf\n",
    "from tensorflow.keras.layers import LSTM\n",
    "from tensorflow.keras.layers import concatenate\n",
    "from tensorflow.keras.layers import Dense,Flatten,Reshape,Conv1D,Dropout,Flatten,BatchNormalization,MaxPooling1D,Concatenate,Add\n",
    "from tensorflow.keras import Sequential,Input\n",
    "from sklearn.model_selection import train_test_split\n",
    "from sklearn.preprocessing import OneHotEncoder\n",
    "from tensorflow.keras.models import Model, Sequential, load_model\n",
    "from sklearn.metrics import confusion_matrix"
   ]
  },
  {
   "cell_type": "code",
   "execution_count": 2,
   "metadata": {},
   "outputs": [],
   "source": [
    "cred_fr=pd.read_csv(\"creditcard.csv\")"
   ]
  },
  {
   "cell_type": "code",
   "execution_count": 4,
   "metadata": {},
   "outputs": [
    {
     "data": {
      "text/html": [
       "<div>\n",
       "<style scoped>\n",
       "    .dataframe tbody tr th:only-of-type {\n",
       "        vertical-align: middle;\n",
       "    }\n",
       "\n",
       "    .dataframe tbody tr th {\n",
       "        vertical-align: top;\n",
       "    }\n",
       "\n",
       "    .dataframe thead th {\n",
       "        text-align: right;\n",
       "    }\n",
       "</style>\n",
       "<table border=\"1\" class=\"dataframe\">\n",
       "  <thead>\n",
       "    <tr style=\"text-align: right;\">\n",
       "      <th></th>\n",
       "      <th>Time</th>\n",
       "      <th>V1</th>\n",
       "      <th>V2</th>\n",
       "      <th>V3</th>\n",
       "      <th>V4</th>\n",
       "      <th>V5</th>\n",
       "      <th>V6</th>\n",
       "      <th>V7</th>\n",
       "      <th>V8</th>\n",
       "      <th>V9</th>\n",
       "      <th>...</th>\n",
       "      <th>V21</th>\n",
       "      <th>V22</th>\n",
       "      <th>V23</th>\n",
       "      <th>V24</th>\n",
       "      <th>V25</th>\n",
       "      <th>V26</th>\n",
       "      <th>V27</th>\n",
       "      <th>V28</th>\n",
       "      <th>Amount</th>\n",
       "      <th>Class</th>\n",
       "    </tr>\n",
       "  </thead>\n",
       "  <tbody>\n",
       "    <tr>\n",
       "      <th>0</th>\n",
       "      <td>0.0</td>\n",
       "      <td>-1.359807</td>\n",
       "      <td>-0.072781</td>\n",
       "      <td>2.536347</td>\n",
       "      <td>1.378155</td>\n",
       "      <td>-0.338321</td>\n",
       "      <td>0.462388</td>\n",
       "      <td>0.239599</td>\n",
       "      <td>0.098698</td>\n",
       "      <td>0.363787</td>\n",
       "      <td>...</td>\n",
       "      <td>-0.018307</td>\n",
       "      <td>0.277838</td>\n",
       "      <td>-0.110474</td>\n",
       "      <td>0.066928</td>\n",
       "      <td>0.128539</td>\n",
       "      <td>-0.189115</td>\n",
       "      <td>0.133558</td>\n",
       "      <td>-0.021053</td>\n",
       "      <td>149.62</td>\n",
       "      <td>0</td>\n",
       "    </tr>\n",
       "    <tr>\n",
       "      <th>1</th>\n",
       "      <td>0.0</td>\n",
       "      <td>1.191857</td>\n",
       "      <td>0.266151</td>\n",
       "      <td>0.166480</td>\n",
       "      <td>0.448154</td>\n",
       "      <td>0.060018</td>\n",
       "      <td>-0.082361</td>\n",
       "      <td>-0.078803</td>\n",
       "      <td>0.085102</td>\n",
       "      <td>-0.255425</td>\n",
       "      <td>...</td>\n",
       "      <td>-0.225775</td>\n",
       "      <td>-0.638672</td>\n",
       "      <td>0.101288</td>\n",
       "      <td>-0.339846</td>\n",
       "      <td>0.167170</td>\n",
       "      <td>0.125895</td>\n",
       "      <td>-0.008983</td>\n",
       "      <td>0.014724</td>\n",
       "      <td>2.69</td>\n",
       "      <td>0</td>\n",
       "    </tr>\n",
       "    <tr>\n",
       "      <th>2</th>\n",
       "      <td>1.0</td>\n",
       "      <td>-1.358354</td>\n",
       "      <td>-1.340163</td>\n",
       "      <td>1.773209</td>\n",
       "      <td>0.379780</td>\n",
       "      <td>-0.503198</td>\n",
       "      <td>1.800499</td>\n",
       "      <td>0.791461</td>\n",
       "      <td>0.247676</td>\n",
       "      <td>-1.514654</td>\n",
       "      <td>...</td>\n",
       "      <td>0.247998</td>\n",
       "      <td>0.771679</td>\n",
       "      <td>0.909412</td>\n",
       "      <td>-0.689281</td>\n",
       "      <td>-0.327642</td>\n",
       "      <td>-0.139097</td>\n",
       "      <td>-0.055353</td>\n",
       "      <td>-0.059752</td>\n",
       "      <td>378.66</td>\n",
       "      <td>0</td>\n",
       "    </tr>\n",
       "    <tr>\n",
       "      <th>3</th>\n",
       "      <td>1.0</td>\n",
       "      <td>-0.966272</td>\n",
       "      <td>-0.185226</td>\n",
       "      <td>1.792993</td>\n",
       "      <td>-0.863291</td>\n",
       "      <td>-0.010309</td>\n",
       "      <td>1.247203</td>\n",
       "      <td>0.237609</td>\n",
       "      <td>0.377436</td>\n",
       "      <td>-1.387024</td>\n",
       "      <td>...</td>\n",
       "      <td>-0.108300</td>\n",
       "      <td>0.005274</td>\n",
       "      <td>-0.190321</td>\n",
       "      <td>-1.175575</td>\n",
       "      <td>0.647376</td>\n",
       "      <td>-0.221929</td>\n",
       "      <td>0.062723</td>\n",
       "      <td>0.061458</td>\n",
       "      <td>123.50</td>\n",
       "      <td>0</td>\n",
       "    </tr>\n",
       "    <tr>\n",
       "      <th>4</th>\n",
       "      <td>2.0</td>\n",
       "      <td>-1.158233</td>\n",
       "      <td>0.877737</td>\n",
       "      <td>1.548718</td>\n",
       "      <td>0.403034</td>\n",
       "      <td>-0.407193</td>\n",
       "      <td>0.095921</td>\n",
       "      <td>0.592941</td>\n",
       "      <td>-0.270533</td>\n",
       "      <td>0.817739</td>\n",
       "      <td>...</td>\n",
       "      <td>-0.009431</td>\n",
       "      <td>0.798278</td>\n",
       "      <td>-0.137458</td>\n",
       "      <td>0.141267</td>\n",
       "      <td>-0.206010</td>\n",
       "      <td>0.502292</td>\n",
       "      <td>0.219422</td>\n",
       "      <td>0.215153</td>\n",
       "      <td>69.99</td>\n",
       "      <td>0</td>\n",
       "    </tr>\n",
       "  </tbody>\n",
       "</table>\n",
       "<p>5 rows × 31 columns</p>\n",
       "</div>"
      ],
      "text/plain": [
       "   Time        V1        V2        V3        V4        V5        V6        V7  \\\n",
       "0   0.0 -1.359807 -0.072781  2.536347  1.378155 -0.338321  0.462388  0.239599   \n",
       "1   0.0  1.191857  0.266151  0.166480  0.448154  0.060018 -0.082361 -0.078803   \n",
       "2   1.0 -1.358354 -1.340163  1.773209  0.379780 -0.503198  1.800499  0.791461   \n",
       "3   1.0 -0.966272 -0.185226  1.792993 -0.863291 -0.010309  1.247203  0.237609   \n",
       "4   2.0 -1.158233  0.877737  1.548718  0.403034 -0.407193  0.095921  0.592941   \n",
       "\n",
       "         V8        V9  ...       V21       V22       V23       V24       V25  \\\n",
       "0  0.098698  0.363787  ... -0.018307  0.277838 -0.110474  0.066928  0.128539   \n",
       "1  0.085102 -0.255425  ... -0.225775 -0.638672  0.101288 -0.339846  0.167170   \n",
       "2  0.247676 -1.514654  ...  0.247998  0.771679  0.909412 -0.689281 -0.327642   \n",
       "3  0.377436 -1.387024  ... -0.108300  0.005274 -0.190321 -1.175575  0.647376   \n",
       "4 -0.270533  0.817739  ... -0.009431  0.798278 -0.137458  0.141267 -0.206010   \n",
       "\n",
       "        V26       V27       V28  Amount  Class  \n",
       "0 -0.189115  0.133558 -0.021053  149.62      0  \n",
       "1  0.125895 -0.008983  0.014724    2.69      0  \n",
       "2 -0.139097 -0.055353 -0.059752  378.66      0  \n",
       "3 -0.221929  0.062723  0.061458  123.50      0  \n",
       "4  0.502292  0.219422  0.215153   69.99      0  \n",
       "\n",
       "[5 rows x 31 columns]"
      ]
     },
     "execution_count": 4,
     "metadata": {},
     "output_type": "execute_result"
    }
   ],
   "source": [
    "cred_fr.head()"
   ]
  },
  {
   "cell_type": "code",
   "execution_count": 5,
   "metadata": {},
   "outputs": [
    {
     "data": {
      "text/plain": [
       "(284807, 31)"
      ]
     },
     "execution_count": 5,
     "metadata": {},
     "output_type": "execute_result"
    }
   ],
   "source": [
    "cred_fr.shape"
   ]
  },
  {
   "cell_type": "code",
   "execution_count": 16,
   "metadata": {},
   "outputs": [
    {
     "data": {
      "text/plain": [
       "Time      0\n",
       "V1        0\n",
       "V2        0\n",
       "V3        0\n",
       "V4        0\n",
       "V5        0\n",
       "V6        0\n",
       "V7        0\n",
       "V8        0\n",
       "V9        0\n",
       "V10       0\n",
       "V11       0\n",
       "V12       0\n",
       "V13       0\n",
       "V14       0\n",
       "V15       0\n",
       "V16       0\n",
       "V17       0\n",
       "V18       0\n",
       "V19       0\n",
       "V20       0\n",
       "V21       0\n",
       "V22       0\n",
       "V23       0\n",
       "V24       0\n",
       "V25       0\n",
       "V26       0\n",
       "V27       0\n",
       "V28       0\n",
       "Amount    0\n",
       "Class     0\n",
       "dtype: int64"
      ]
     },
     "execution_count": 16,
     "metadata": {},
     "output_type": "execute_result"
    }
   ],
   "source": [
    "cred_fr.isna().sum()"
   ]
  },
  {
   "cell_type": "code",
   "execution_count": 17,
   "metadata": {},
   "outputs": [
    {
     "data": {
      "image/png": "[encoded data removed]",
      "text/plain": [
       "<Figure size 1080x504 with 1 Axes>"
      ]
     },
     "metadata": {
      "needs_background": "light"
     },
     "output_type": "display_data"
    }
   ],
   "source": [
    "plt.figure(figsize=(15, 7))\n",
    "plt.scatter(cred_fr.Time,cred_fr.Class)\n",
    "plt.title('Time Variation of Fraud')\n",
    "plt.grid(True)\n",
    "plt.show()"
   ]
  },
  {
   "cell_type": "code",
   "execution_count": 18,
   "metadata": {},
   "outputs": [
    {
     "data": {
      "image/png": "[encoded data removed]",
      "text/plain": [
       "<Figure size 1080x504 with 1 Axes>"
      ]
     },
     "metadata": {
      "needs_background": "light"
     },
     "output_type": "display_data"
    }
   ],
   "source": [
    "plt.figure(figsize=(15, 7))\n",
    "plt.scatter(cred_fr.Amount,cred_fr.Class)\n",
    "plt.title('Amount Variation of Fraud')\n",
    "plt.grid(True)\n",
    "plt.show()"
   ]
  },
  {
   "cell_type": "code",
   "execution_count": 24,
   "metadata": {},
   "outputs": [],
   "source": [
    "corrh=cred_fr.corr()"
   ]
  },
  {
   "cell_type": "code",
   "execution_count": 25,
   "metadata": {},
   "outputs": [
    {
     "data": {
      "text/plain": [
       "<matplotlib.axes._subplots.AxesSubplot at 0x22859bc5388>"
      ]
     },
     "execution_count": 25,
     "metadata": {},
     "output_type": "execute_result"
    },
    {
     "data": {
      "image/png": "[encoded data removed]",
      "text/plain": [
       "<Figure size 432x288 with 2 Axes>"
      ]
     },
     "metadata": {
      "needs_background": "light"
     },
     "output_type": "display_data"
    }
   ],
   "source": [
    "sns.heatmap(corrh,xticklabels=corrh.columns,yticklabels=corrh.columns)"
   ]
  },
  {
   "cell_type": "code",
   "execution_count": 28,
   "metadata": {},
   "outputs": [],
   "source": [
    "X,Y=cred_fr.drop(columns=[\"Time\",\"Amount\",\"Class\"]),cred_fr['Class']"
   ]
  },
  {
   "cell_type": "code",
   "execution_count": 29,
   "metadata": {},
   "outputs": [],
   "source": [
    "X_train, X_test, y_train, y_test=train_test_split(X,Y,test_size=0.33, random_state=42)"
   ]
  },
  {
   "cell_type": "code",
   "execution_count": 30,
   "metadata": {},
   "outputs": [],
   "source": [
    "X_train_t, X_test_t, y_train_t, y_test_t=train_test_split(cred_fr['Time'],cred_fr['Class'],test_size=0.33, random_state=42)"
   ]
  },
  {
   "cell_type": "code",
   "execution_count": 31,
   "metadata": {},
   "outputs": [],
   "source": [
    "X_train_a, X_test_a, y_train_a, y_test_a=train_test_split(cred_fr['Amount'],cred_fr['Class'],test_size=0.33, random_state=42)"
   ]
  },
  {
   "cell_type": "code",
   "execution_count": 33,
   "metadata": {},
   "outputs": [],
   "source": [
    "def df_ex(df,ax1,ax2):\n",
    "    df=df.to_numpy()\n",
    "    df=df.reshape(df.shape[0],ax1,ax2)\n",
    "    return df"
   ]
  },
  {
   "cell_type": "code",
   "execution_count": 13,
   "metadata": {},
   "outputs": [],
   "source": [
    "X_train=X_train.to_numpy()\n"
   ]
  },
  {
   "cell_type": "code",
   "execution_count": 10,
   "metadata": {},
   "outputs": [],
   "source": [
    "x = tf.ones((1, 4))\n",
    "tf.data.Dataset.from_tensor_slices(\n",
    "    "
   ]
  },
  {
   "cell_type": "code",
   "execution_count": 19,
   "metadata": {},
   "outputs": [],
   "source": [
    "#cred_fr2=cred_fr.reshape(cred_fr.shape[0],cred_fr.shape[1])"
   ]
  },
  {
   "cell_type": "code",
   "execution_count": 14,
   "metadata": {},
   "outputs": [],
   "source": [
    "X_train=X_train.reshape(X_train.shape[0],X_train.shape[1],1)"
   ]
  },
  {
   "cell_type": "code",
   "execution_count": 34,
   "metadata": {},
   "outputs": [],
   "source": [
    "X_train=df_ex(X_train,X_train.shape[1],1)"
   ]
  },
  {
   "cell_type": "code",
   "execution_count": 36,
   "metadata": {},
   "outputs": [],
   "source": [
    "X_train_t=df_ex(X_train_t,1,1)"
   ]
  },
  {
   "cell_type": "code",
   "execution_count": 38,
   "metadata": {},
   "outputs": [],
   "source": [
    "X_train_a=df_ex(X_train_a,1,1)"
   ]
  },
  {
   "cell_type": "code",
   "execution_count": 38,
   "metadata": {},
   "outputs": [],
   "source": [
    "def base_dl_model():\n",
    "    model=Sequential()\n",
    "    model.add(Input(shape=X_train.shape[1:],))\n",
    "    model.add(Conv1D(32,2,activation=\"relu\"))\n",
    "    model.add(BatchNormalization(momentum=0.04))\n",
    "    model.add(MaxPooling1D(2))\n",
    "\n",
    "    model.add(Conv1D(16,2,activation=\"relu\"))\n",
    "    model.add(Dropout(0.1))\n",
    "    model.add(Flatten())\n",
    "    model.add(Dense(16))\n",
    "        \n",
    "    #model.add(Dense(2,activation=\"softmax\"))\n",
    "    #model.add(Dense(1,activation=\"sigmoid\"))\n",
    "    #model.compile(loss='categorical_crossentropy', optimizer='adam')\n",
    "    #model.compile(loss='binary_crossentropy', optimizer='adam')\n",
    "\n",
    "    return model"
   ]
  },
  {
   "cell_type": "code",
   "execution_count": 39,
   "metadata": {},
   "outputs": [],
   "source": [
    "def lstm_shell():\n",
    "    model=Sequential()\n",
    "    model.add(Input(shape=X_train_t.shape[1:],))\n",
    "    model.add(LSTM(8))\n",
    "    model.add(BatchNormalization(momentum=0.04 ))\n",
    "    model.add(Dropout(0.1))\n",
    "    model.add(Flatten())\n",
    "    model.add(Dense(16))\n",
    "    #model.add(Dense(1,activation=\"sigmoid\"))\n",
    "    #model.compile(loss='binary_crossentropy', optimizer='adam')\n",
    "\n",
    "    return model"
   ]
  },
  {
   "cell_type": "code",
   "execution_count": 40,
   "metadata": {},
   "outputs": [],
   "source": [
    "def dense_shell():\n",
    "    model=Sequential()\n",
    "    model.add(Input(shape=X_train_a.shape[1:],))\n",
    "    model.add(Dense(30))\n",
    "    model.add(BatchNormalization(momentum=0.04 ))\n",
    "    model.add(Dropout(0.1))\n",
    "    model.add(Flatten())\n",
    "    model.add(Dense(16))\n",
    "    #model.add(Dense(1,activation=\"sigmoid\"))\n",
    "    #model.compile(loss='binary_crossentropy', optimizer='adam')\n",
    "\n",
    "    return model"
   ]
  },
  {
   "cell_type": "code",
   "execution_count": 40,
   "metadata": {},
   "outputs": [],
   "source": [
    "#model=Sequential()\n",
    "#model.add(Input(shape=X_train.shape[1:],))\n",
    "input_cnn = Input(shape=X_train.shape[1:],)\n",
    "\n",
    "cnn=Conv1D(32,2,activation=\"relu\")(input_cnn)\n",
    "cnn=BatchNormalization(momentum=0.04)(cnn)\n",
    "cnn=MaxPooling1D(2)(cnn)\n",
    "cnn=Conv1D(16,2,activation=\"relu\")(cnn)\n",
    "cnn=Dropout(0.1)(cnn)\n",
    "cnn=Flatten()(cnn)\n",
    "cnn=Dense(16)(cnn)\n",
    "cnn = Model(inputs=input_cnn, outputs=cnn)"
   ]
  },
  {
   "cell_type": "code",
   "execution_count": 41,
   "metadata": {},
   "outputs": [],
   "source": [
    "#model=Sequential()\n",
    "#model.add(Input(shape=X_train_t.shape[1:],))\n",
    "input_lstm = Input(shape=X_train_t.shape[1:],)\n",
    "lsm_form=LSTM(8)(input_lstm)\n",
    "lsm_form=BatchNormalization(momentum=0.04 )(lsm_form)\n",
    "lsm_form=Dropout(0.1)(lsm_form)\n",
    "lsm_form=Flatten()(lsm_form)\n",
    "lsm_form=Dense(16)(lsm_form)\n",
    "    #\n",
    "lsm_form = Model(inputs=input_lstm, outputs=lsm_form)"
   ]
  },
  {
   "cell_type": "code",
   "execution_count": 42,
   "metadata": {},
   "outputs": [],
   "source": [
    "desne_input=Input(shape=X_train_a.shape[1:],)\n",
    "#input_a = Input(shape=X_train_t.shape[1:],)\n",
    "desne_net=Dense(30)(desne_input)\n",
    "desne_net=BatchNormalization(momentum=0.04 )(desne_net)\n",
    "desne_net=Dropout(0.1)(desne_net)\n",
    "desne_net=Flatten()(desne_net)\n",
    "desne_net=Dense(16)(desne_net)\n",
    "desne_net = Model(inputs=desne_input, outputs=desne_net)"
   ]
  },
  {
   "cell_type": "code",
   "execution_count": 48,
   "metadata": {},
   "outputs": [],
   "source": [
    "combined = Concatenate(axis=-1)([cnn.output,lsm_form.output, desne_net.output])"
   ]
  },
  {
   "cell_type": "code",
   "execution_count": 49,
   "metadata": {},
   "outputs": [],
   "source": [
    "out=Dense(1,activation=\"sigmoid\")(combined)"
   ]
  },
  {
   "cell_type": "code",
   "execution_count": 50,
   "metadata": {},
   "outputs": [
    {
     "data": {
      "text/plain": [
       "<tf.Tensor 'input_1:0' shape=(None, 28, 1) dtype=float32>"
      ]
     },
     "execution_count": 50,
     "metadata": {},
     "output_type": "execute_result"
    }
   ],
   "source": [
    "cnn.input"
   ]
  },
  {
   "cell_type": "code",
   "execution_count": 51,
   "metadata": {},
   "outputs": [],
   "source": [
    "model = Model(inputs=[input_cnn, input_lstm,desne_input], outputs=out)"
   ]
  },
  {
   "cell_type": "code",
   "execution_count": 52,
   "metadata": {},
   "outputs": [],
   "source": [
    "model.compile(optimizer='adam', loss='binary_crossentropy', metrics=['accuracy'])"
   ]
  },
  {
   "cell_type": "code",
   "execution_count": 53,
   "metadata": {},
   "outputs": [
    {
     "name": "stdout",
     "output_type": "stream",
     "text": [
      "Epoch 1/20\n",
      "5964/5964 [==============================] - 37s 6ms/step - loss: 0.0074 - accuracy: 0.9981\n",
      "Epoch 2/20\n",
      "5964/5964 [==============================] - 37s 6ms/step - loss: 0.0041 - accuracy: 0.9992\n",
      "Epoch 3/20\n",
      "5964/5964 [==============================] - 38s 6ms/step - loss: 0.0037 - accuracy: 0.9993\n",
      "Epoch 4/20\n",
      "5964/5964 [==============================] - 38s 6ms/step - loss: 0.0037 - accuracy: 0.9993\n",
      "Epoch 5/20\n",
      "5964/5964 [==============================] - 39s 6ms/step - loss: 0.0034 - accuracy: 0.9993\n",
      "Epoch 6/20\n",
      "5964/5964 [==============================] - 39s 6ms/step - loss: 0.0034 - accuracy: 0.9994\n",
      "Epoch 7/20\n",
      "5964/5964 [==============================] - 41s 7ms/step - loss: 0.0034 - accuracy: 0.9994\n",
      "Epoch 8/20\n",
      "5964/5964 [==============================] - 40s 7ms/step - loss: 0.0033 - accuracy: 0.9993\n",
      "Epoch 9/20\n",
      "5964/5964 [==============================] - 41s 7ms/step - loss: 0.0033 - accuracy: 0.9994\n",
      "Epoch 10/20\n",
      "5964/5964 [==============================] - 42s 7ms/step - loss: 0.0032 - accuracy: 0.9993\n",
      "Epoch 11/20\n",
      "5964/5964 [==============================] - 40s 7ms/step - loss: 0.0032 - accuracy: 0.9994\n",
      "Epoch 12/20\n",
      "5964/5964 [==============================] - 40s 7ms/step - loss: 0.0030 - accuracy: 0.9994\n",
      "Epoch 13/20\n",
      "5964/5964 [==============================] - 42s 7ms/step - loss: 0.0030 - accuracy: 0.9993\n",
      "Epoch 14/20\n",
      "5964/5964 [==============================] - ETA: 0s - loss: 0.0030 - accuracy: 0.99 - 42s 7ms/step - loss: 0.0030 - accuracy: 0.9994\n",
      "Epoch 15/20\n",
      "5964/5964 [==============================] - 43s 7ms/step - loss: 0.0029 - accuracy: 0.9994\n",
      "Epoch 16/20\n",
      "5964/5964 [==============================] - 43s 7ms/step - loss: 0.0029 - accuracy: 0.9994\n",
      "Epoch 17/20\n",
      "5964/5964 [==============================] - 43s 7ms/step - loss: 0.0030 - accuracy: 0.9994\n",
      "Epoch 18/20\n",
      "5964/5964 [==============================] - 43s 7ms/step - loss: 0.0029 - accuracy: 0.9995\n",
      "Epoch 19/20\n",
      "5964/5964 [==============================] - 43s 7ms/step - loss: 0.0028 - accuracy: 0.9994\n",
      "Epoch 20/20\n",
      "5964/5964 [==============================] - 42s 7ms/step - loss: 0.0029 - accuracy: 0.9994\n"
     ]
    },
    {
     "data": {
      "text/plain": [
       "<tensorflow.python.keras.callbacks.History at 0x228214c7188>"
      ]
     },
     "execution_count": 53,
     "metadata": {},
     "output_type": "execute_result"
    }
   ],
   "source": [
    "model.fit([X_train,X_train_t,X_train_a],y_train,epochs=20)"
   ]
  },
  {
   "cell_type": "code",
   "execution_count": 54,
   "metadata": {},
   "outputs": [],
   "source": [
    "preds=model.predict([[X_test,X_test_t,X_test_a]])"
   ]
  },
  {
   "cell_type": "code",
   "execution_count": 160,
   "metadata": {},
   "outputs": [
    {
     "data": {
      "text/plain": [
       "array([[9.9830449e-01],\n",
       "       [7.9584197e-07],\n",
       "       [8.0200536e-08],\n",
       "       ...,\n",
       "       [5.4639781e-08],\n",
       "       [1.3436906e-05],\n",
       "       [1.2473936e-07]], dtype=float32)"
      ]
     },
     "execution_count": 160,
     "metadata": {},
     "output_type": "execute_result"
    }
   ],
   "source": [
    "preds"
   ]
  },
  {
   "cell_type": "raw",
   "metadata": {},
   "source": [
    " 0,   565,  3025,  3228,  4178,  4640,  5100,  5756,  6054,\n",
    "             6368,  7011,  7846,  8090,  8379,  8456,  9203, 10279, 10634,\n",
    "            11066, 11245, 13509, 16473, 16564, 16592, 16839, 17345, 17388,\n",
    "            18130, 18544, 18785, 18861, 19281, 19442, 19821, 20031, 21199,\n",
    "            22412, 22588, 22718, 22797, 23380, 24197, 25774, 25903, 27670,\n",
    "            27885, 28803, 30129, 30923, 30971, 31055, 31337, 31575, 32102,\n",
    "            32656, 32949, 33127, 34064, 35049, 35931, 36216, 36674, 36677,\n",
    "            36918, 37190, 37427, 37841, 37881, 38134, 40555, 40663, 40729,\n",
    "            41451, 41626, 43088, 43475, 44671, 45276, 45516, 46943, 47649,\n",
    "            48678, 48954, 50442, 50500, 51016, 51622, 53465, 53920, 54605,\n",
    "            55409, 55459, 55764, 55799, 56196, 56282, 56288, 56467, 57389,\n",
    "            57800"
   ]
  },
  {
   "cell_type": "code",
   "execution_count": 165,
   "metadata": {},
   "outputs": [],
   "source": [
    " neg_indx=[0,   565,  3025,  3228,  4178,  4640,  5100,  5756,  6054,\n",
    "             6368,  7011,  7846,  8090,  8379,  8456,  9203, 10279, 10634,\n",
    "            11066, 11245, 13509, 16473, 16564, 16592, 16839, 17345, 17388,\n",
    "            18130, 18544, 18785, 18861, 19281, 19442, 19821, 20031, 21199,\n",
    "            22412, 22588, 22718, 22797, 23380, 24197, 25774, 25903, 27670,\n",
    "            27885, 28803, 30129, 30923, 30971, 31055, 31337, 31575, 32102,\n",
    "            32656, 32949, 33127, 34064, 35049, 35931, 36216, 36674, 36677,\n",
    "            36918, 37190, 37427, 37841, 37881, 38134, 40555, 40663, 40729,\n",
    "            41451, 41626, 43088, 43475, 44671, 45276, 45516, 46943, 47649,\n",
    "            48678, 48954, 50442, 50500, 51016, 51622, 53465, 53920, 54605,\n",
    "            55409, 55459, 55764, 55799, 56196, 56282, 56288, 56467, 57389,\n",
    "            57800]"
   ]
  },
  {
   "cell_type": "code",
   "execution_count": 178,
   "metadata": {},
   "outputs": [
    {
     "data": {
      "text/plain": [
       "0.7760672"
      ]
     },
     "execution_count": 178,
     "metadata": {},
     "output_type": "execute_result"
    }
   ],
   "source": [
    "import numpy as np\n",
    "np.mean(preds[neg_indx])#,max(preds[neg_indx])[0]"
   ]
  },
  {
   "cell_type": "code",
   "execution_count": 179,
   "metadata": {},
   "outputs": [
    {
     "data": {
      "text/plain": [
       "0.3611002"
      ]
     },
     "execution_count": 179,
     "metadata": {},
     "output_type": "execute_result"
    }
   ],
   "source": [
    "np.std(preds[neg_indx])#,max(preds[neg_indx])[0]"
   ]
  },
  {
   "cell_type": "code",
   "execution_count": 174,
   "metadata": {},
   "outputs": [
    {
     "data": {
      "text/plain": [
       "0    93838\n",
       "1      149\n",
       "Name: Class, dtype: int64"
      ]
     },
     "execution_count": 174,
     "metadata": {},
     "output_type": "execute_result"
    }
   ],
   "source": [
    "y_test.value_counts()"
   ]
  },
  {
   "cell_type": "code",
   "execution_count": 55,
   "metadata": {},
   "outputs": [],
   "source": [
    "rest=[0 if i<0.5 else 1 for i in preds ]"
   ]
  },
  {
   "cell_type": "code",
   "execution_count": 186,
   "metadata": {},
   "outputs": [
    {
     "data": {
      "text/plain": [
       "Counter({1: 154, 0: 93833})"
      ]
     },
     "execution_count": 186,
     "metadata": {},
     "output_type": "execute_result"
    }
   ],
   "source": [
    "import collections\n",
    "collections.Counter(rest)"
   ]
  },
  {
   "cell_type": "code",
   "execution_count": 56,
   "metadata": {},
   "outputs": [
    {
     "data": {
      "text/plain": [
       "array([[93662,   176],\n",
       "       [   25,   124]], dtype=int64)"
      ]
     },
     "execution_count": 56,
     "metadata": {},
     "output_type": "execute_result"
    }
   ],
   "source": [
    "from sklearn.metrics import confusion_matrix\n",
    "confusion_matrix(y_test,rest)"
   ]
  },
  {
   "cell_type": "code",
   "execution_count": 164,
   "metadata": {},
   "outputs": [
    {
     "data": {
      "text/plain": [
       "(array([0.9983045], dtype=float32),\n",
       " array([0.9936359], dtype=float32),\n",
       " array([0.00012887], dtype=float32),\n",
       " array([0.5082412], dtype=float32))"
      ]
     },
     "execution_count": 164,
     "metadata": {},
     "output_type": "execute_result"
    }
   ],
   "source": [
    "preds[0],preds[57800],preds[3228],preds[13509]"
   ]
  },
  {
   "cell_type": "code",
   "execution_count": 145,
   "metadata": {},
   "outputs": [],
   "source": [
    "from tensorflow.keras.utils import plot_model"
   ]
  },
  {
   "cell_type": "code",
   "execution_count": 154,
   "metadata": {},
   "outputs": [
    {
     "name": "stdout",
     "output_type": "stream",
     "text": [
      "Collecting graphviz\n",
      "  Downloading graphviz-0.16-py2.py3-none-any.whl (19 kB)\n",
      "Installing collected packages: graphviz\n",
      "Successfully installed graphviz-0.16\n"
     ]
    },
    {
     "name": "stderr",
     "output_type": "stream",
     "text": [
      "WARNING: You are using pip version 20.1.1; however, version 21.1.1 is available.\n",
      "You should consider upgrading via the 'c:\\users\\91914\\appdata\\local\\programs\\python\\python38-32\\python.exe -m pip install --upgrade pip' command.\n"
     ]
    }
   ],
   "source": [
    "!pip3 install graphviz"
   ]
  },
  {
   "cell_type": "code",
   "execution_count": 155,
   "metadata": {},
   "outputs": [
    {
     "name": "stdout",
     "output_type": "stream",
     "text": [
      "Failed to import pydot. You must install pydot and graphviz for `pydotprint` to work.\n"
     ]
    }
   ],
   "source": [
    "tf.keras.utils.plot_model(\n",
    "    model, to_file='model.png', show_shapes=False,\n",
    "    show_layer_names=True, rankdir='TB', expand_nested=False, dpi=96\n",
    ")"
   ]
  },
  {
   "cell_type": "code",
   "execution_count": 24,
   "metadata": {},
   "outputs": [
    {
     "data": {
      "text/plain": [
       "(190820, 28, 1)"
      ]
     },
     "execution_count": 24,
     "metadata": {},
     "output_type": "execute_result"
    }
   ],
   "source": [
    "X_train.shape"
   ]
  },
  {
   "cell_type": "code",
   "execution_count": 41,
   "metadata": {},
   "outputs": [],
   "source": [
    "model=base_dl_model()"
   ]
  },
  {
   "cell_type": "code",
   "execution_count": 42,
   "metadata": {},
   "outputs": [],
   "source": [
    "model_l=lstm_shell()"
   ]
  },
  {
   "cell_type": "code",
   "execution_count": 44,
   "metadata": {},
   "outputs": [],
   "source": [
    "model_d=dense_shell()"
   ]
  },
  {
   "cell_type": "code",
   "execution_count": 45,
   "metadata": {},
   "outputs": [
    {
     "data": {
      "text/plain": [
       "(<tf.Tensor 'dense_1/Identity:0' shape=(None, 16) dtype=float32>,\n",
       " <tf.Tensor 'dense_2/Identity:0' shape=(None, 16) dtype=float32>,\n",
       " <tf.Tensor 'dense_4/Identity:0' shape=(None, 16) dtype=float32>)"
      ]
     },
     "execution_count": 45,
     "metadata": {},
     "output_type": "execute_result"
    }
   ],
   "source": [
    "model.output,model_l.output,model_d.output"
   ]
  },
  {
   "cell_type": "code",
   "execution_count": 46,
   "metadata": {},
   "outputs": [],
   "source": [
    "merged = Add()([model.output,model_l.output,model_d.output])"
   ]
  },
  {
   "cell_type": "code",
   "execution_count": 57,
   "metadata": {},
   "outputs": [
    {
     "data": {
      "text/plain": [
       "((190820, 28, 1), (190820, 1, 1), (190820, 1, 1))"
      ]
     },
     "execution_count": 57,
     "metadata": {},
     "output_type": "execute_result"
    }
   ],
   "source": [
    "X_train.shape,X_train_t.shape,X_train_a.shape"
   ]
  },
  {
   "cell_type": "code",
   "execution_count": 62,
   "metadata": {},
   "outputs": [],
   "source": [
    "tupl=((X_train),(X_train_t),(X_train_a))"
   ]
  },
  {
   "cell_type": "code",
   "execution_count": 68,
   "metadata": {},
   "outputs": [
    {
     "data": {
      "text/plain": [
       "(190820, 1, 1)"
      ]
     },
     "execution_count": 68,
     "metadata": {},
     "output_type": "execute_result"
    }
   ],
   "source": [
    "tupl[1].shape"
   ]
  },
  {
   "cell_type": "code",
   "execution_count": 53,
   "metadata": {},
   "outputs": [],
   "source": [
    "out=Dense(1,activation=\"sigmoid\")(merged)"
   ]
  },
  {
   "cell_type": "code",
   "execution_count": 69,
   "metadata": {},
   "outputs": [
    {
     "ename": "NameError",
     "evalue": "name 'Model' is not defined",
     "output_type": "error",
     "traceback": [
      "\u001b[1;31m---------------------------------------------------------------------------\u001b[0m",
      "\u001b[1;31mNameError\u001b[0m                                 Traceback (most recent call last)",
      "\u001b[1;32m<ipython-input-69-898b2d661d8a>\u001b[0m in \u001b[0;36m<module>\u001b[1;34m\u001b[0m\n\u001b[1;32m----> 1\u001b[1;33m \u001b[0mmodel\u001b[0m \u001b[1;33m=\u001b[0m \u001b[0mModel\u001b[0m\u001b[1;33m(\u001b[0m\u001b[0minputs\u001b[0m\u001b[1;33m=\u001b[0m\u001b[0mtupl\u001b[0m\u001b[1;33m,\u001b[0m \u001b[0moutputs\u001b[0m\u001b[1;33m=\u001b[0m\u001b[0mout\u001b[0m\u001b[1;33m)\u001b[0m\u001b[1;33m\u001b[0m\u001b[1;33m\u001b[0m\u001b[0m\n\u001b[0m\u001b[0;32m      2\u001b[0m \u001b[0mmodel\u001b[0m\u001b[1;33m.\u001b[0m\u001b[0mcompile\u001b[0m\u001b[1;33m(\u001b[0m\u001b[0moptimizer\u001b[0m\u001b[1;33m=\u001b[0m\u001b[1;34m'adam'\u001b[0m\u001b[1;33m,\u001b[0m \u001b[0mloss\u001b[0m\u001b[1;33m=\u001b[0m\u001b[1;34m'binary_crossentropy'\u001b[0m\u001b[1;33m,\u001b[0m \u001b[0mmetrics\u001b[0m\u001b[1;33m=\u001b[0m\u001b[1;33m[\u001b[0m\u001b[1;34m'accuracy'\u001b[0m\u001b[1;33m]\u001b[0m\u001b[1;33m)\u001b[0m\u001b[1;33m\u001b[0m\u001b[1;33m\u001b[0m\u001b[0m\n",
      "\u001b[1;31mNameError\u001b[0m: name 'Model' is not defined"
     ]
    }
   ],
   "source": [
    "model = Model(inputs=tupl, outputs=out)\n",
    "model.compile(optimizer='adam', loss='binary_crossentropy', metrics=['accuracy'])"
   ]
  },
  {
   "cell_type": "code",
   "execution_count": 54,
   "metadata": {},
   "outputs": [
    {
     "ename": "AttributeError",
     "evalue": "'Tensor' object has no attribute 'compile'",
     "output_type": "error",
     "traceback": [
      "\u001b[1;31m---------------------------------------------------------------------------\u001b[0m",
      "\u001b[1;31mAttributeError\u001b[0m                            Traceback (most recent call last)",
      "\u001b[1;32m<ipython-input-54-cb72b3d34cf1>\u001b[0m in \u001b[0;36m<module>\u001b[1;34m\u001b[0m\n\u001b[1;32m----> 1\u001b[1;33m \u001b[0mout\u001b[0m\u001b[1;33m.\u001b[0m\u001b[0mcompile\u001b[0m\u001b[1;33m(\u001b[0m\u001b[1;33m)\u001b[0m\u001b[1;33m\u001b[0m\u001b[1;33m\u001b[0m\u001b[0m\n\u001b[0m",
      "\u001b[1;31mAttributeError\u001b[0m: 'Tensor' object has no attribute 'compile'"
     ]
    }
   ],
   "source": [
    "out.compile()"
   ]
  },
  {
   "cell_type": "code",
   "execution_count": 166,
   "metadata": {},
   "outputs": [
    {
     "name": "stdout",
     "output_type": "stream",
     "text": [
      "Epoch 1/10\n",
      "5964/5964 [==============================] - 14s 2ms/step - loss: 0.0688\n",
      "Epoch 2/10\n",
      "5964/5964 [==============================] - 14s 2ms/step - loss: 0.0143\n",
      "Epoch 3/10\n",
      "5964/5964 [==============================] - 13s 2ms/step - loss: 0.0138\n",
      "Epoch 4/10\n",
      "5964/5964 [==============================] - 13s 2ms/step - loss: 0.0138\n",
      "Epoch 5/10\n",
      "5964/5964 [==============================] - 14s 2ms/step - loss: 0.0137\n",
      "Epoch 6/10\n",
      "5964/5964 [==============================] - 14s 2ms/step - loss: 0.0135\n",
      "Epoch 7/10\n",
      "5964/5964 [==============================] - 14s 2ms/step - loss: 0.0135\n",
      "Epoch 8/10\n",
      "5964/5964 [==============================] - 14s 2ms/step - loss: 0.0135\n",
      "Epoch 9/10\n",
      "5964/5964 [==============================] - 14s 2ms/step - loss: 0.0135\n",
      "Epoch 10/10\n",
      "5964/5964 [==============================] - 14s 2ms/step - loss: 0.0134\n"
     ]
    },
    {
     "data": {
      "text/plain": [
       "<tensorflow.python.keras.callbacks.History at 0x243adc9c108>"
      ]
     },
     "execution_count": 166,
     "metadata": {},
     "output_type": "execute_result"
    }
   ],
   "source": [
    "model_d.fit(X_train_a,y_train,epochs=10)"
   ]
  },
  {
   "cell_type": "code",
   "execution_count": 167,
   "metadata": {},
   "outputs": [],
   "source": [
    "model_d.save(\"dense_model.h5\")\n",
    "model_d.save_weights(\"dense_model.h5\")"
   ]
  },
  {
   "cell_type": "code",
   "execution_count": 157,
   "metadata": {},
   "outputs": [],
   "source": [
    "model_l.fit(X_train_t,y_train,epochs=10)"
   ]
  },
  {
   "cell_type": "code",
   "execution_count": 158,
   "metadata": {},
   "outputs": [
    {
     "data": {
      "text/plain": [
       "(93987, 1, 1)"
      ]
     },
     "execution_count": 158,
     "metadata": {},
     "output_type": "execute_result"
    }
   ],
   "source": [
    "X_test_t.shape"
   ]
  },
  {
   "cell_type": "code",
   "execution_count": 159,
   "metadata": {},
   "outputs": [],
   "source": [
    "X_test_t=X_test_t.to_numpy()\n",
    "#X_test_t=X_test_t.reshape(190820,1,1)"
   ]
  },
  {
   "cell_type": "code",
   "execution_count": 93,
   "metadata": {},
   "outputs": [],
   "source": [
    "X_train_a=X_test_t.reshape(93987,1,1)"
   ]
  },
  {
   "cell_type": "code",
   "execution_count": 94,
   "metadata": {},
   "outputs": [
    {
     "data": {
      "text/plain": [
       "(93987, 1, 1)"
      ]
     },
     "execution_count": 94,
     "metadata": {},
     "output_type": "execute_result"
    }
   ],
   "source": [
    "X_test_t.shape"
   ]
  },
  {
   "cell_type": "code",
   "execution_count": 105,
   "metadata": {},
   "outputs": [],
   "source": [
    "time_pre=model_l.predict(X_test_t)"
   ]
  },
  {
   "cell_type": "code",
   "execution_count": 106,
   "metadata": {},
   "outputs": [],
   "source": [
    "time_pre=[i[0] for i in time_pre]"
   ]
  },
  {
   "cell_type": "code",
   "execution_count": 169,
   "metadata": {},
   "outputs": [],
   "source": [
    "X_test_a=X_test_a.to_numpy()"
   ]
  },
  {
   "cell_type": "code",
   "execution_count": 170,
   "metadata": {},
   "outputs": [],
   "source": [
    "X_test_a=X_test_a.reshape(93987,1,1)"
   ]
  },
  {
   "cell_type": "code",
   "execution_count": 171,
   "metadata": {},
   "outputs": [],
   "source": [
    "test_pr=model_d.predict(X_test_a,return=)"
   ]
  },
  {
   "cell_type": "code",
   "execution_count": 173,
   "metadata": {},
   "outputs": [
    {
     "data": {
      "text/plain": [
       "Counter({0.0018378794: 1,\n",
       "         0.0019020438: 4,\n",
       "         0.0017076731: 81,\n",
       "         0.0016966164: 674,\n",
       "         0.0016963184: 1686,\n",
       "         0.0017339289: 282,\n",
       "         0.0017024279: 180,\n",
       "         0.001699388: 359,\n",
       "         0.0016997755: 966,\n",
       "         0.0017344356: 20,\n",
       "         0.0017124116: 23,\n",
       "         0.0017041564: 49,\n",
       "         0.0017553568: 28,\n",
       "         0.0017118454: 76,\n",
       "         0.001696378: 5332,\n",
       "         0.0016992688: 63,\n",
       "         0.0017059445: 38,\n",
       "         0.0017246902: 76,\n",
       "         0.0017046332: 37,\n",
       "         0.0017133653: 50,\n",
       "         0.0016988218: 80,\n",
       "         0.0017049909: 133,\n",
       "         0.0018048584: 3,\n",
       "         0.001737386: 53,\n",
       "         0.0017289221: 43,\n",
       "         0.0017043054: 263,\n",
       "         0.0017315447: 39,\n",
       "         0.0017102361: 24,\n",
       "         0.0016967654: 1120,\n",
       "         0.0036677718: 1,\n",
       "         0.0017342865: 5,\n",
       "         0.0017110705: 714,\n",
       "         0.0016998053: 1789,\n",
       "         0.0017392337: 47,\n",
       "         0.0017095506: 230,\n",
       "         0.0017072856: 309,\n",
       "         0.0017269552: 55,\n",
       "         0.0016988516: 178,\n",
       "         0.0017220676: 129,\n",
       "         0.0017910302: 1,\n",
       "         0.002194941: 2,\n",
       "         0.0018707812: 1,\n",
       "         0.0017001033: 139,\n",
       "         0.0017003715: 606,\n",
       "         0.0017006397: 333,\n",
       "         0.0016967952: 2025,\n",
       "         0.0018424392: 3,\n",
       "         0.0017024875: 32,\n",
       "         0.0017835498: 2,\n",
       "         0.0016967058: 79,\n",
       "         0.0016960204: 621,\n",
       "         0.0017008185: 41,\n",
       "         0.001709193: 280,\n",
       "         0.0017534792: 19,\n",
       "         0.0017674267: 4,\n",
       "         0.0016990304: 436,\n",
       "         0.001843214: 5,\n",
       "         0.0016994476: 799,\n",
       "         0.0017161965: 29,\n",
       "         0.0016987622: 104,\n",
       "         0.0017836988: 4,\n",
       "         0.00174281: 11,\n",
       "         0.001696527: 1049,\n",
       "         0.0017039478: 66,\n",
       "         0.0017713606: 1,\n",
       "         0.0017061234: 53,\n",
       "         0.0016981959: 55,\n",
       "         0.0016982257: 143,\n",
       "         0.0017599761: 4,\n",
       "         0.0016963482: 1083,\n",
       "         0.0018442273: 9,\n",
       "         0.0017018914: 48,\n",
       "         0.0017025471: 46,\n",
       "         0.0017055571: 24,\n",
       "         0.0017407835: 41,\n",
       "         0.0017342567: 25,\n",
       "         0.001706928: 199,\n",
       "         0.0017365515: 18,\n",
       "         0.0017098784: 23,\n",
       "         0.0016979277: 1026,\n",
       "         0.0017052889: 60,\n",
       "         0.0016976297: 87,\n",
       "         0.0016969442: 130,\n",
       "         0.0018001497: 4,\n",
       "         0.0017020702: 193,\n",
       "         0.0017017126: 1371,\n",
       "         0.0016975105: 548,\n",
       "         0.0017141402: 20,\n",
       "         0.001735419: 40,\n",
       "         0.0017224848: 41,\n",
       "         0.001899898: 2,\n",
       "         0.0016982555: 359,\n",
       "         0.001740396: 22,\n",
       "         0.0017461479: 4,\n",
       "         0.0017253458: 10,\n",
       "         0.0017020106: 463,\n",
       "         0.0017414093: 5,\n",
       "         0.001716286: 34,\n",
       "         0.0017206967: 14,\n",
       "         0.001706779: 139,\n",
       "         0.0017026067: 70,\n",
       "         0.0017333925: 16,\n",
       "         0.0017024577: 16,\n",
       "         0.0017453432: 11,\n",
       "         0.0016968548: 615,\n",
       "         0.0017109811: 59,\n",
       "         0.0017224252: 151,\n",
       "         0.0017017424: 84,\n",
       "         0.0017414987: 152,\n",
       "         0.0016983151: 213,\n",
       "         0.0017051995: 23,\n",
       "         0.001798898: 6,\n",
       "         0.0017727613: 1,\n",
       "         0.0016970634: 590,\n",
       "         0.0017066896: 22,\n",
       "         0.0018184483: 8,\n",
       "         0.0017163754: 104,\n",
       "         0.0017546415: 23,\n",
       "         0.0017452538: 8,\n",
       "         0.0017018318: 34,\n",
       "         0.001701355: 67,\n",
       "         0.0016973615: 347,\n",
       "         0.0017302036: 14,\n",
       "         0.001856327: 1,\n",
       "         0.00169608: 309,\n",
       "         0.0017334521: 185,\n",
       "         0.0017127991: 11,\n",
       "         0.0017004907: 509,\n",
       "         0.0017080307: 53,\n",
       "         0.0017001927: 140,\n",
       "         0.002454847: 1,\n",
       "         0.0016964674: 148,\n",
       "         0.0017023683: 119,\n",
       "         0.0017645955: 9,\n",
       "         0.0016974509: 319,\n",
       "         0.0016974211: 250,\n",
       "         0.0017086267: 45,\n",
       "         0.0017186403: 403,\n",
       "         0.0017090738: 42,\n",
       "         0.0017189682: 26,\n",
       "         0.0017030537: 45,\n",
       "         0.0017238259: 30,\n",
       "         0.0017035902: 1363,\n",
       "         0.0016977489: 644,\n",
       "         0.0017507076: 135,\n",
       "         0.0017032623: 41,\n",
       "         0.0017250478: 23,\n",
       "         0.001704365: 40,\n",
       "         0.0017880201: 2,\n",
       "         0.0016978681: 249,\n",
       "         0.00172472: 19,\n",
       "         0.0017007291: 92,\n",
       "         0.0017129481: 141,\n",
       "         0.0017402172: 6,\n",
       "         0.0017054677: 520,\n",
       "         0.0017102957: 34,\n",
       "         0.0017002821: 186,\n",
       "         0.0016998649: 35,\n",
       "         0.0017027855: 181,\n",
       "         0.0017084479: 102,\n",
       "         0.0016988814: 158,\n",
       "         0.001706183: 45,\n",
       "         0.0017227829: 25,\n",
       "         0.0017231703: 62,\n",
       "         0.0019074082: 1,\n",
       "         0.0017736554: 10,\n",
       "         0.0017132461: 67,\n",
       "         0.0016986132: 307,\n",
       "         0.001788646: 3,\n",
       "         0.0017174482: 41,\n",
       "         0.0017093718: 31,\n",
       "         0.0017148554: 774,\n",
       "         0.0017103553: 50,\n",
       "         0.0017111003: 16,\n",
       "         0.0018241107: 2,\n",
       "         0.0017078221: 31,\n",
       "         0.0017141104: 56,\n",
       "         0.0017163455: 30,\n",
       "         0.0017130077: 387,\n",
       "         0.0017002225: 25,\n",
       "         0.0017491579: 51,\n",
       "         0.0019392967: 4,\n",
       "         0.0017030835: 58,\n",
       "         0.0017019212: 47,\n",
       "         0.001706034: 55,\n",
       "         0.0017027557: 327,\n",
       "         0.0017486811: 13,\n",
       "         0.001698941: 311,\n",
       "         0.0017454028: 39,\n",
       "         0.0017169714: 15,\n",
       "         0.0017338097: 75,\n",
       "         0.0017054081: 414,\n",
       "         0.001742661: 8,\n",
       "         0.0017178953: 70,\n",
       "         0.0016964078: 163,\n",
       "         0.0017016828: 199,\n",
       "         0.0017230511: 22,\n",
       "         0.0017072558: 74,\n",
       "         0.0017083585: 31,\n",
       "         0.0017281175: 89,\n",
       "         0.0017472208: 8,\n",
       "         0.0017209649: 75,\n",
       "         0.0017254353: 53,\n",
       "         0.0017171204: 110,\n",
       "         0.0017022789: 34,\n",
       "         0.0017092228: 33,\n",
       "         0.0017071962: 68,\n",
       "         0.0018889606: 1,\n",
       "         0.0016965568: 54,\n",
       "         0.0017006099: 93,\n",
       "         0.0017287135: 8,\n",
       "         0.0017145872: 10,\n",
       "         0.0017216802: 76,\n",
       "         0.0017183423: 13,\n",
       "         0.001745671: 6,\n",
       "         0.0017091632: 132,\n",
       "         0.001706332: 47,\n",
       "         0.0018176138: 6,\n",
       "         0.0017202199: 62,\n",
       "         0.0020554066: 1,\n",
       "         0.0016971529: 347,\n",
       "         0.0017505884: 6,\n",
       "         0.0017455816: 5,\n",
       "         0.0017307401: 13,\n",
       "         0.0018495321: 4,\n",
       "         0.0017071366: 31,\n",
       "         0.0016961396: 131,\n",
       "         0.0017165542: 15,\n",
       "         0.0025205016: 2,\n",
       "         0.0017055869: 38,\n",
       "         0.0016972721: 34,\n",
       "         0.0018853843: 4,\n",
       "         0.001714468: 21,\n",
       "         0.0019294322: 1,\n",
       "         0.0017164946: 18,\n",
       "         0.0017551482: 5,\n",
       "         0.0017275512: 9,\n",
       "         0.0017144084: 45,\n",
       "         0.001702249: 77,\n",
       "         0.0017091334: 20,\n",
       "         0.001714021: 31,\n",
       "         0.0017105043: 33,\n",
       "         0.0018116236: 4,\n",
       "         0.0017186999: 19,\n",
       "         0.0017132163: 29,\n",
       "         0.0016984642: 39,\n",
       "         0.0017261803: 2,\n",
       "         0.0017038882: 120,\n",
       "         0.0016972125: 169,\n",
       "         0.0017336905: 8,\n",
       "         0.0017062128: 93,\n",
       "         0.0016997159: 83,\n",
       "         0.0017437637: 37,\n",
       "         0.0016974807: 118,\n",
       "         0.0017499626: 17,\n",
       "         0.001703918: 19,\n",
       "         0.0017258525: 170,\n",
       "         0.0017046928: 131,\n",
       "         0.0016989708: 90,\n",
       "         0.0023724735: 1,\n",
       "         0.0017292798: 68,\n",
       "         0.001701951: 41,\n",
       "         0.0017159879: 40,\n",
       "         0.001832068: 44,\n",
       "         0.0017349422: 5,\n",
       "         0.0016989112: 60,\n",
       "         0.001700908: 486,\n",
       "         0.0016970038: 32,\n",
       "         0.0017522275: 7,\n",
       "         0.0016981065: 213,\n",
       "         0.0017531514: 10,\n",
       "         0.0017203987: 9,\n",
       "         0.0017942488: 4,\n",
       "         0.0016970336: 272,\n",
       "         0.001731813: 11,\n",
       "         0.0017325282: 6,\n",
       "         0.0017256737: 8,\n",
       "         0.0022971034: 1,\n",
       "         0.0017025173: 71,\n",
       "         0.0018524528: 44,\n",
       "         0.0017901361: 5,\n",
       "         0.0017068088: 42,\n",
       "         0.001698643: 24,\n",
       "         0.0016984046: 104,\n",
       "         0.0019268692: 1,\n",
       "         0.0017199516: 9,\n",
       "         0.001696974: 168,\n",
       "         0.0018579662: 1,\n",
       "         0.0017834604: 18,\n",
       "         0.0017537475: 12,\n",
       "         0.0018409193: 3,\n",
       "         0.0017472804: 19,\n",
       "         0.002588302: 1,\n",
       "         0.0017671585: 3,\n",
       "         0.0017646253: 8,\n",
       "         0.0017619729: 4,\n",
       "         0.0016993582: 109,\n",
       "         0.0017449558: 63,\n",
       "         0.0017434657: 47,\n",
       "         0.0016979873: 22,\n",
       "         0.0017102063: 12,\n",
       "         0.0017789304: 6,\n",
       "         0.0016968846: 167,\n",
       "         0.0018143952: 7,\n",
       "         0.00203681: 1,\n",
       "         0.0017107129: 268,\n",
       "         0.0017200708: 15,\n",
       "         0.0017300248: 395,\n",
       "         0.0017031729: 218,\n",
       "         0.0017465949: 4,\n",
       "         0.0018365085: 5,\n",
       "         0.0016991496: 66,\n",
       "         0.0017357469: 38,\n",
       "         0.0017725229: 172,\n",
       "         0.0017564893: 3,\n",
       "         0.0017135441: 6,\n",
       "         0.0017015338: 57,\n",
       "         0.0017361641: 29,\n",
       "         0.0017075837: 19,\n",
       "         0.002099067: 1,\n",
       "         0.0017442107: 16,\n",
       "         0.0017094016: 21,\n",
       "         0.0018511415: 4,\n",
       "         0.0017097294: 32,\n",
       "         0.0017299652: 44,\n",
       "         0.0017192662: 21,\n",
       "         0.0018866062: 3,\n",
       "         0.001719892: 28,\n",
       "         0.0017074049: 37,\n",
       "         0.0017031133: 39,\n",
       "         0.0017073452: 681,\n",
       "         0.0017566383: 7,\n",
       "         0.0018828809: 1,\n",
       "         0.0017350018: 10,\n",
       "         0.0017876327: 9,\n",
       "         0.001716733: 194,\n",
       "         0.0017897487: 6,\n",
       "         0.0027751327: 1,\n",
       "         0.0018165112: 2,\n",
       "         0.0017182827: 38,\n",
       "         0.0017068386: 39,\n",
       "         0.0016979575: 87,\n",
       "         0.0017110109: 26,\n",
       "         0.0017075241: 27,\n",
       "         0.0018419921: 4,\n",
       "         0.0017029345: 28,\n",
       "         0.0017138124: 22,\n",
       "         0.0017110407: 26,\n",
       "         0.0017899871: 2,\n",
       "         0.0019439161: 1,\n",
       "         0.0017034113: 99,\n",
       "         0.0016980767: 142,\n",
       "         0.001701206: 16,\n",
       "         0.0017013252: 108,\n",
       "         0.0017211735: 9,\n",
       "         0.0017057359: 23,\n",
       "         0.0021686852: 1,\n",
       "         0.0017018616: 84,\n",
       "         0.0017004013: 68,\n",
       "         0.001804024: 20,\n",
       "         0.00169909: 46,\n",
       "         0.0017193258: 20,\n",
       "         0.0017156005: 16,\n",
       "         0.001717627: 10,\n",
       "         0.0016993284: 27,\n",
       "         0.0017070174: 29,\n",
       "         0.0017266572: 9,\n",
       "         0.001698494: 195,\n",
       "         0.0017057657: 169,\n",
       "         0.0017032325: 46,\n",
       "         0.002698809: 1,\n",
       "         0.001730442: 35,\n",
       "         0.001729548: 14,\n",
       "         0.0021879375: 2,\n",
       "         0.001753062: 140,\n",
       "         0.0017153025: 28,\n",
       "         0.0017105639: 13,\n",
       "         0.0017029643: 79,\n",
       "         0.0017133951: 63,\n",
       "         0.0017156601: 21,\n",
       "         0.0017511845: 3,\n",
       "         0.0017011762: 41,\n",
       "         0.0017457902: 2,\n",
       "         0.0017066002: 20,\n",
       "         0.001724273: 101,\n",
       "         0.0016996264: 83,\n",
       "         0.0016976893: 67,\n",
       "         0.001768142: 3,\n",
       "         0.0018547475: 1,\n",
       "         0.0017023385: 56,\n",
       "         0.0018024445: 12,\n",
       "         0.0017369986: 5,\n",
       "         0.0017117262: 7,\n",
       "         0.0017337203: 14,\n",
       "         0.0017410815: 8,\n",
       "         0.0017399788: 40,\n",
       "         0.0017296374: 80,\n",
       "         0.0017094314: 26,\n",
       "         0.001747191: 10,\n",
       "         0.0017009377: 30,\n",
       "         0.0017635226: 4,\n",
       "         0.001760453: 5,\n",
       "         0.0018977523: 2,\n",
       "         0.001711458: 18,\n",
       "         0.0017458797: 9,\n",
       "         0.0017271936: 8,\n",
       "         0.0016972423: 107,\n",
       "         0.0017019808: 65,\n",
       "         0.0017416775: 48,\n",
       "         0.001699239: 17,\n",
       "         0.0018108189: 13,\n",
       "         0.0017555952: 7,\n",
       "         0.0016996562: 72,\n",
       "         0.0016984344: 45,\n",
       "         0.0017319024: 31,\n",
       "         0.001747638: 5,\n",
       "         0.0017284453: 13,\n",
       "         0.001812011: 87,\n",
       "         0.0017453134: 15,\n",
       "         0.0017162263: 29,\n",
       "         0.0017326176: 9,\n",
       "         0.001717031: 10,\n",
       "         0.0018097162: 2,\n",
       "         0.0017221272: 11,\n",
       "         0.0017009676: 13,\n",
       "         0.0017282069: 4,\n",
       "         0.0017244816: 15,\n",
       "         0.0017121434: 29,\n",
       "         0.0017826855: 4,\n",
       "         0.0020501018: 1,\n",
       "         0.0016994774: 145,\n",
       "         0.0017514229: 5,\n",
       "         0.0017078817: 26,\n",
       "         0.0017065704: 159,\n",
       "         0.0017058551: 30,\n",
       "         0.00170362: 47,\n",
       "         0.0017488301: 52,\n",
       "         0.0017768741: 5,\n",
       "         0.0017241836: 14,\n",
       "         0.001719296: 5,\n",
       "         0.0017168224: 14,\n",
       "         0.001699537: 99,\n",
       "         0.0017170012: 25,\n",
       "         0.0017213225: 39,\n",
       "         0.0017205775: 87,\n",
       "         0.0017005205: 63,\n",
       "         0.0017155111: 8,\n",
       "         0.0018936098: 123,\n",
       "         0.0017526746: 58,\n",
       "         0.0029418766: 4,\n",
       "         0.0016962886: 645,\n",
       "         0.0017430484: 5,\n",
       "         0.0016981661: 57,\n",
       "         0.0017008781: 62,\n",
       "         0.001714915: 17,\n",
       "         0.0017259419: 24,\n",
       "         0.0017065108: 46,\n",
       "         0.001731962: 3,\n",
       "         0.0017763674: 10,\n",
       "         0.0017360747: 9,\n",
       "         0.0017205179: 123,\n",
       "         0.0017102659: 132,\n",
       "         0.0017547905: 6,\n",
       "         0.0018280745: 11,\n",
       "         0.0017550886: 26,\n",
       "         0.0017087162: 31,\n",
       "         0.0017153919: 22,\n",
       "         0.0017028153: 52,\n",
       "         0.0016997457: 154,\n",
       "         0.0017044842: 115,\n",
       "         0.0017341971: 8,\n",
       "         0.0019008815: 1,\n",
       "         0.0020035505: 1,\n",
       "         0.0017047524: 62,\n",
       "         0.0017126203: 41,\n",
       "         0.0017337799: 19,\n",
       "         0.0018229485: 1,\n",
       "         0.0017262101: 262,\n",
       "         0.001701653: 27,\n",
       "         0.0017780662: 2,\n",
       "         0.0017147064: 16,\n",
       "         0.0017653704: 1,\n",
       "         0.001696825: 181,\n",
       "         0.0016985238: 77,\n",
       "         0.0017582774: 2,\n",
       "         0.001872927: 20,\n",
       "         0.0017223358: 10,\n",
       "         0.0019048154: 1,\n",
       "         0.0016975999: 66,\n",
       "         0.001729697: 14,\n",
       "         0.0017569363: 100,\n",
       "         0.0017417669: 10,\n",
       "         0.0017112494: 48,\n",
       "         0.0017231405: 20,\n",
       "         0.0022121966: 1,\n",
       "         0.0017484725: 38,\n",
       "         0.0017228425: 32,\n",
       "         0.0017931461: 7,\n",
       "         0.0017812252: 5,\n",
       "         0.0018953383: 5,\n",
       "         0.0017377436: 74,\n",
       "         0.001755327: 7,\n",
       "         0.0016973019: 98,\n",
       "         0.0017629564: 14,\n",
       "         0.0017422438: 26,\n",
       "         0.0017648637: 4,\n",
       "         0.0017128587: 46,\n",
       "         0.0017921329: 91,\n",
       "         0.0016970932: 45,\n",
       "         0.0017239451: 59,\n",
       "         0.0018113256: 3,\n",
       "         0.0017527938: 3,\n",
       "         0.0017079115: 33,\n",
       "         0.001774162: 4,\n",
       "         0.0017278194: 11,\n",
       "         0.0018585324: 2,\n",
       "         0.0018437803: 3,\n",
       "         0.0017005503: 204,\n",
       "         0.0017384589: 8,\n",
       "         0.0017088652: 18,\n",
       "         0.0017639697: 8,\n",
       "         0.0017185807: 76,\n",
       "         0.0017010868: 67,\n",
       "         0.0017047822: 31,\n",
       "         0.0017104745: 27,\n",
       "         0.0016990602: 90,\n",
       "         0.0018796027: 2,\n",
       "         0.0018306077: 1,\n",
       "         0.0017720461: 2,\n",
       "         0.0017788112: 2,\n",
       "         0.001714319: 7,\n",
       "         0.0017646551: 4,\n",
       "         0.0016967356: 48,\n",
       "         0.001740545: 3,\n",
       "         0.0017191172: 9,\n",
       "         0.0017185211: 34,\n",
       "         0.0017338395: 123,\n",
       "         0.0017445982: 31,\n",
       "         0.0017257929: 22,\n",
       "         0.0016999543: 156,\n",
       "         0.0017733574: 5,\n",
       "         0.001727134: 8,\n",
       "         0.0017443895: 7,\n",
       "         0.00245592: 1,\n",
       "         0.0017005801: 33,\n",
       "         0.0019106269: 1,\n",
       "         0.001709342: 34,\n",
       "         0.0017565787: 46,\n",
       "         0.001714617: 26,\n",
       "         0.0017410517: 12,\n",
       "         0.0018051565: 1,\n",
       "         0.0016980469: 116,\n",
       "         0.001703769: 51,\n",
       "         0.0017358065: 6,\n",
       "         0.0018060803: 2,\n",
       "         0.0017223656: 105,\n",
       "         0.0019193292: 5,\n",
       "         0.001701802: 98,\n",
       "         0.0017014742: 26,\n",
       "         0.0018017888: 3,\n",
       "         0.0017890036: 6,\n",
       "         0.0017136633: 39,\n",
       "         0.001704663: 30,\n",
       "         0.0017049611: 50,\n",
       "         0.0018351376: 1,\n",
       "         0.0017494261: 9,\n",
       "         0.0021395981: 1,\n",
       "         0.0017111897: 21,\n",
       "         0.0017265081: 11,\n",
       "         0.0017050207: 69,\n",
       "         0.0017693639: 16,\n",
       "         0.0017008483: 42,\n",
       "         0.001698345: 102,\n",
       "         0.0019854605: 1,\n",
       "         0.0017122328: 35,\n",
       "         0.0017063022: 56,\n",
       "         0.0017204285: 24,\n",
       "         0.0017364025: 18,\n",
       "         0.0017143488: 13,\n",
       "         0.0017332137: 5,\n",
       "         0.0017674565: 4,\n",
       "         0.0021054745: 3,\n",
       "         0.0017002523: 157,\n",
       "         0.0018163621: 7,\n",
       "         0.0017218888: 18,\n",
       "         0.0017330945: 44,\n",
       "         0.0018022656: 2,\n",
       "         0.0017182529: 88,\n",
       "         0.0017108023: 24,\n",
       "         0.0017069876: 21,\n",
       "         0.0017040372: 26,\n",
       "         0.0016985834: 96,\n",
       "         0.0017080009: 37,\n",
       "         0.0016995966: 48,\n",
       "         0.0017088056: 132,\n",
       "         0.001697123: 122,\n",
       "         0.0017013848: 45,\n",
       "         0.0017415881: 9,\n",
       "         0.0017260313: 42,\n",
       "         0.0017095208: 38,\n",
       "         0.001837641: 4,\n",
       "         0.0016977787: 128,\n",
       "         0.0017570555: 1,\n",
       "         0.001712054: 36,\n",
       "         0.0017579794: 7,\n",
       "         0.0017410219: 6,\n",
       "         0.0017636418: 3,\n",
       "         0.0017203689: 4,\n",
       "         0.0017099679: 117,\n",
       "         0.0017179549: 10,\n",
       "         0.0017384291: 45,\n",
       "         0.0017644763: 1,\n",
       "         0.0017031431: 83,\n",
       "         0.0017107427: 21,\n",
       "         0.0016986728: 162,\n",
       "         0.0017282367: 2,\n",
       "         0.0017721057: 45,\n",
       "         0.0017280579: 15,\n",
       "         0.0016971827: 59,\n",
       "         0.0017541945: 5,\n",
       "         0.001711756: 33,\n",
       "         0.0017360449: 7,\n",
       "         0.0017116964: 20,\n",
       "         0.0017175078: 10,\n",
       "         0.001701504: 64,\n",
       "         0.0017099082: 53,\n",
       "         0.0017033219: 46,\n",
       "         0.0017134249: 22,\n",
       "         0.0017009974: 60,\n",
       "         0.0017186701: 11,\n",
       "         0.0017198324: 27,\n",
       "         0.0017718971: 4,\n",
       "         0.0018174946: 3,\n",
       "         0.001977235: 3,\n",
       "         0.0017125309: 29,\n",
       "         0.0018849373: 2,\n",
       "         0.0017126501: 80,\n",
       "         0.0021142364: 39,\n",
       "         0.0018140674: 4,\n",
       "         0.0019203424: 1,\n",
       "         0.0016987026: 121,\n",
       "         0.0018064976: 2,\n",
       "         0.0017237067: 12,\n",
       "         0.0018439293: 1,\n",
       "         0.0017148256: 22,\n",
       "         0.0017912686: 6,\n",
       "         0.0016962588: 58,\n",
       "         0.0017600358: 32,\n",
       "         0.0017003417: 53,\n",
       "         0.0018423498: 3,\n",
       "         0.0017026365: 54,\n",
       "         0.0018476844: 3,\n",
       "         0.0017121732: 61,\n",
       "         0.0017243326: 63,\n",
       "         0.0017051101: 67,\n",
       "         0.0017022192: 25,\n",
       "         0.0017324686: 10,\n",
       "         0.0017893016: 2,\n",
       "         0.0017280281: 10,\n",
       "         0.001704067: 32,\n",
       "         0.0017077327: 28,\n",
       "         0.001716882: 12,\n",
       "         0.0020270944: 1,\n",
       "         0.001733005: 13,\n",
       "         0.0017037094: 31,\n",
       "         0.0017080605: 29,\n",
       "         0.0017540455: 6,\n",
       "         0.0017007887: 27,\n",
       "         0.0017144382: 99,\n",
       "         0.0017316341: 13,\n",
       "         0.001701057: 21,\n",
       "         0.001734972: 13,\n",
       "         0.0017654598: 13,\n",
       "         0.0016978085: 41,\n",
       "         0.0022143722: 2,\n",
       "         0.0016991198: 69,\n",
       "         0.0017678142: 14,\n",
       "         0.0017858744: 7,\n",
       "         0.0017154515: 23,\n",
       "         0.0017264783: 13,\n",
       "         0.0017322898: 69,\n",
       "         0.0017053187: 42,\n",
       "         0.0017357767: 21,\n",
       "         0.0017637014: 15,\n",
       "         0.0017054975: 41,\n",
       "         0.0017504692: 6,\n",
       "         0.0017214715: 10,\n",
       "         0.0017166734: 59,\n",
       "         0.0017273128: 13,\n",
       "         0.001827687: 2,\n",
       "         0.0018036962: 15,\n",
       "         0.0017012954: 140,\n",
       "         0.001718998: 47,\n",
       "         0.0017139912: 5,\n",
       "         0.0017094612: 39,\n",
       "         0.0016975403: 41,\n",
       "         0.0017067194: 18,\n",
       "         0.002080977: 1,\n",
       "         0.0017036796: 51,\n",
       "         0.0017132759: 6,\n",
       "         0.001747936: 10,\n",
       "         0.001698792: 130,\n",
       "         0.0018219948: 8,\n",
       "         0.0017084777: 20,\n",
       "         0.0017317533: 12,\n",
       "         0.0018155575: 5,\n",
       "         0.0017055273: 31,\n",
       "         0.0017042458: 43,\n",
       "         0.0017569661: 6,\n",
       "         0.002403289: 1,\n",
       "         0.0017464757: 5,\n",
       "         0.0016983747: 91,\n",
       "         0.0020739436: 3,\n",
       "         0.0018817484: 1,\n",
       "         0.0017059743: 17,\n",
       "         0.001711309: 17,\n",
       "         0.0017290115: 7,\n",
       "         0.0018812418: 1,\n",
       "         0.0017169118: 43,\n",
       "         0.001709789: 34,\n",
       "         0.0017027259: 61,\n",
       "         0.002549529: 1,\n",
       "         0.0017303228: 5,\n",
       "         0.0017285347: 44,\n",
       "         0.0017791986: 10,\n",
       "         0.0017323494: 11,\n",
       "         0.0017625988: 4,\n",
       "         0.0017137527: 59,\n",
       "         0.0019640326: 1,\n",
       "         0.0017140508: 156,\n",
       "         0.002176255: 1,\n",
       "         0.001703471: 32,\n",
       "         0.0017157495: 12,\n",
       "         0.0017310679: 10,\n",
       "         0.001745224: 12,\n",
       "         0.0016977191: 75,\n",
       "         0.0017287433: 14,\n",
       "         0.0017498732: 6,\n",
       "         0.00170964: 28,\n",
       "         0.0017874241: 20,\n",
       "         0.0017062426: 55,\n",
       "         0.0017681718: 37,\n",
       "         0.0017319322: 53,\n",
       "         0.0017080903: 133,\n",
       "         0.0018101931: 3,\n",
       "         0.0017386675: 8,\n",
       "         0.0018101633: 4,\n",
       "         0.0020002723: 2,\n",
       "         0.0017697513: 1,\n",
       "         0.0018468201: 2,\n",
       "         0.0017858446: 3,\n",
       "         0.001714766: 20,\n",
       "         0.0017238557: 17,\n",
       "         0.0018692315: 1,\n",
       "         0.0017623007: 9,\n",
       "         0.0018811822: 1,\n",
       "         0.0017006993: 65,\n",
       "         0.00180161: 12,\n",
       "         0.0017404556: 2,\n",
       "         0.0017502904: 10,\n",
       "         0.0018154383: 5,\n",
       "         0.0017158985: 15,\n",
       "         0.0017001331: 96,\n",
       "         0.0017741024: 3,\n",
       "         0.001974225: 1,\n",
       "         0.0017378926: 10,\n",
       "         0.0017193854: 31,\n",
       "         0.0017098188: 36,\n",
       "         0.0022953749: 2,\n",
       "         0.0017181039: 14,\n",
       "         0.0017347336: 3,\n",
       "         0.0017553866: 7,\n",
       "         0.0017071068: 60,\n",
       "         0.0017394423: 4,\n",
       "         0.0017473698: 6,\n",
       "         0.0017272532: 24,\n",
       "         0.0017035306: 85,\n",
       "         0.001984179: 2,\n",
       "         0.001735717: 26,\n",
       "         0.0017814934: 13,\n",
       "         0.0017559826: 8,\n",
       "         0.0019351244: 1,\n",
       "         0.0018214285: 1,\n",
       "         0.0017175674: 18,\n",
       "         0.0017997324: 15,\n",
       "         0.0018052757: 5,\n",
       "         0.0019316375: 1,\n",
       "         0.0017223954: 46,\n",
       "         0.0017277598: 63,\n",
       "         0.0017003119: 87,\n",
       "         0.003087014: 1,\n",
       "         0.0018264949: 6,\n",
       "         0.0016964376: 58,\n",
       "         0.0017156303: 76,\n",
       "         0.0017515123: 4,\n",
       "         0.0017147958: 99,\n",
       "         0.0018037856: 1,\n",
       "         0.001886934: 1,\n",
       "         0.0017206073: 17,\n",
       "         0.0018758774: 1,\n",
       "         0.0016981363: 72,\n",
       "         0.0017197132: 16,\n",
       "         0.0017740726: 18,\n",
       "         0.0019681454: 4,\n",
       "         0.0017350614: 40,\n",
       "         0.0017561316: 150,\n",
       "         0.001732707: 18,\n",
       "         0.0019634664: 1,\n",
       "         0.0017823279: 19,\n",
       "         0.0017744601: 25,\n",
       "         0.0017038286: 26,\n",
       "         0.0018412173: 1,\n",
       "         0.0018433034: 2,\n",
       "         0.0017811656: 3,\n",
       "         0.0017181635: 20,\n",
       "         0.0017388165: 23,\n",
       "         0.0017705262: 18,\n",
       "         0.0017773807: 5,\n",
       "         0.0017369092: 53,\n",
       "         0.0017662346: 16,\n",
       "         0.0018139482: 3,\n",
       "         0.0018319786: 8,\n",
       "         0.0017001629: 16,\n",
       "         0.0017359853: 9,\n",
       "         0.0019429922: 1,\n",
       "         0.0019221306: 1,\n",
       "         0.0016999245: 92,\n",
       "         0.0017011464: 86,\n",
       "         0.0017011166: 18,\n",
       "         0.0017090142: 43,\n",
       "         0.0017290413: 5,\n",
       "         0.0017960966: 24,\n",
       "         0.0017133355: 33,\n",
       "         0.0017347932: 11,\n",
       "         0.0017548501: 4,\n",
       "         0.0017549694: 15,\n",
       "         0.0018454492: 2,\n",
       "         0.0017012358: 96,\n",
       "         0.0017172098: 19,\n",
       "         0.0019241571: 1,\n",
       "         0.0017108321: 27,\n",
       "         0.0017543137: 10,\n",
       "         0.001719594: 24,\n",
       "         0.0017716289: 8,\n",
       "         0.0017408729: 32,\n",
       "         0.0017573237: 15,\n",
       "         0.0017096102: 70,\n",
       "         0.0017188191: 48,\n",
       "         0.001958996: 1,\n",
       "         0.0017386079: 8,\n",
       "         0.0017436445: 12,\n",
       "         0.0017040968: 22,\n",
       "         0.0017569959: 13,\n",
       "         0.0017541647: 11,\n",
       "         0.001699686: 80,\n",
       "         0.0017976165: 2,\n",
       "         0.0017064214: 70,\n",
       "         0.0017133057: 12,\n",
       "         0.0017913282: 14,\n",
       "         0.0017146766: 28,\n",
       "         0.0022156835: 1,\n",
       "         0.0017035007: 66,\n",
       "         0.0018179417: 5,\n",
       "         0.0017219782: 18,\n",
       "         0.0017074645: 43,\n",
       "         0.001827538: 5,\n",
       "         0.0017996132: 1,\n",
       "         0.0017949641: 9,\n",
       "         0.0017136931: 39,\n",
       "         0.0017243028: 72,\n",
       "         0.0017219186: 7,\n",
       "         0.0016990006: 22,\n",
       "         0.0016992092: 100,\n",
       "         0.0017487705: 5,\n",
       "         0.0017106235: 59,\n",
       "         0.0017000139: 151,\n",
       "         0.0026352406: 8,\n",
       "         0.001745969: 6,\n",
       "         0.0017295778: 21,\n",
       "         0.0017154813: 19,\n",
       "         0.0017306507: 15,\n",
       "         0.0017050505: 42,\n",
       "         0.0018199682: 30,\n",
       "         0.0017748773: 20,\n",
       "         0.0017568767: 4,\n",
       "         0.001724869: 8,\n",
       "         0.0017181933: 43,\n",
       "         0.0017021: 20,\n",
       "         0.0017367005: 7,\n",
       "         0.003761679: 1,\n",
       "         0.0017448366: 11,\n",
       "         0.0017041862: 35,\n",
       "         0.0017228127: 7,\n",
       "         0.0017039776: 56,\n",
       "         0.001750797: 5,\n",
       "         0.0020350218: 1,\n",
       "         0.0017770231: 6,\n",
       "         0.0017316937: 5,\n",
       "         0.0016995072: 14,\n",
       "         0.0017962754: 5,\n",
       "         0.0017974973: 2,\n",
       "         0.0018460453: 1,\n",
       "         0.0017060041: 46,\n",
       "         0.0017604232: 34,\n",
       "         0.0017229319: 7,\n",
       "         0.0017043948: 36,\n",
       "         0.0018148422: 4,\n",
       "         0.0017158091: 15,\n",
       "         0.0017661452: 3,\n",
       "         0.0017837584: 1,\n",
       "         0.0017173886: 25,\n",
       "         0.0017536283: 3,\n",
       "         0.0017615855: 27,\n",
       "         0.0017160177: 30,\n",
       "         0.0017744303: 5,\n",
       "         0.001704514: 49,\n",
       "         0.0017257631: 18,\n",
       "         0.0017068982: 20,\n",
       "         0.0017493665: 4,\n",
       "         0.0017370582: 8,\n",
       "         0.0017242432: 25,\n",
       "         0.0017252862: 30,\n",
       "         0.0020432174: 1,\n",
       "         0.0017214417: 12,\n",
       "         0.0017487407: 10,\n",
       "         0.0017368793: 14,\n",
       "         0.0017756522: 19,\n",
       "         0.0017840266: 1,\n",
       "         0.0017211437: 17,\n",
       "         0.0017674863: 11,\n",
       "         0.0017060637: 26,\n",
       "         0.0017113984: 16,\n",
       "         0.0017122924: 6,\n",
       "         0.0017190874: 23,\n",
       "         0.0017346144: 63,\n",
       "         0.0017656088: 4,\n",
       "         0.001750201: 12,\n",
       "         0.00177297: 1,\n",
       "         0.0017240942: 3,\n",
       "         0.0017029941: 36,\n",
       "         0.0017180741: 16,\n",
       "         0.0017363429: 8,\n",
       "         0.0019622445: 1,\n",
       "         0.0017251074: 43,\n",
       "         0.0017142296: 28,\n",
       "         0.0022020638: 1,\n",
       "         0.0017637908: 21,\n",
       "         0.0017248094: 21,\n",
       "         0.001704812: 7,\n",
       "         0.0018414259: 1,\n",
       "         0.0018147528: 1,\n",
       "         0.0017136037: 28,\n",
       "         0.001991719: 2,\n",
       "         0.0017029047: 26,\n",
       "         0.0017800927: 2,\n",
       "         0.0017263293: 5,\n",
       "         0.001717329: 13,\n",
       "         0.0017139316: 21,\n",
       "         0.0017390251: 5,\n",
       "         0.0017489493: 3,\n",
       "         0.0017048419: 43,\n",
       "         0.0017941296: 16,\n",
       "         0.0020959377: 1,\n",
       "         0.0018112361: 7,\n",
       "         0.0017215312: 25,\n",
       "         0.00267604: 1,\n",
       "         0.0019142032: 6,\n",
       "         0.0018898845: 2,\n",
       "         0.0017838776: 16,\n",
       "         0.0017622113: 6,\n",
       "         0.0017137825: 44,\n",
       "         0.0017135143: 21,\n",
       "         0.0022090375: 3,\n",
       "         0.001784265: 17,\n",
       "         0.001788199: 17,\n",
       "         0.0018111467: 2,\n",
       "         0.001878649: 2,\n",
       "         0.0017092824: 18,\n",
       "         0.0017026961: 40,\n",
       "         0.001708597: 29,\n",
       "         0.0022642016: 1,\n",
       "         0.0017199814: 17,\n",
       "         0.0017905533: 3,\n",
       "         0.001758486: 23,\n",
       "         0.0017390847: 3,\n",
       "         0.0017175376: 92,\n",
       "         0.0017103255: 87,\n",
       "         0.001806289: 28,\n",
       "         0.0021944046: 2,\n",
       "         0.0017171502: 58,\n",
       "         0.0017021596: 51,\n",
       "         0.0017850399: 1,\n",
       "         0.0017303526: 15,\n",
       "         0.0017556548: 5,\n",
       "         0.0018267035: 2,\n",
       "         0.0018169582: 1,\n",
       "         0.001824826: 1,\n",
       "         0.0018647015: 7,\n",
       "         0.0017367303: 6,\n",
       "         0.0017513633: 8,\n",
       "         ...})"
      ]
     },
     "execution_count": 173,
     "metadata": {},
     "output_type": "execute_result"
    }
   ],
   "source": [
    "collections.Counter([i[0] for i in test_pr])"
   ]
  },
  {
   "cell_type": "code",
   "execution_count": 176,
   "metadata": {},
   "outputs": [
    {
     "data": {
      "text/plain": [
       "(array([0.00181651], dtype=float32),\n",
       " array([0.00173384], dtype=float32),\n",
       " array([0.00169638], dtype=float32))"
      ]
     },
     "execution_count": 176,
     "metadata": {},
     "output_type": "execute_result"
    }
   ],
   "source": [
    "test_pr[565],test_pr[41451],test_pr[55459]"
   ]
  },
  {
   "cell_type": "code",
   "execution_count": 182,
   "metadata": {},
   "outputs": [
    {
     "data": {
      "text/plain": [
       "array([0.00183788], dtype=float32)"
      ]
     },
     "execution_count": 182,
     "metadata": {},
     "output_type": "execute_result"
    }
   ],
   "source": [
    "test_pr[0]"
   ]
  },
  {
   "cell_type": "code",
   "execution_count": 109,
   "metadata": {},
   "outputs": [
    {
     "data": {
      "text/plain": [
       "Counter({0.0020857751: 93979,\n",
       "         0.00024008751: 1,\n",
       "         0.0020186007: 1,\n",
       "         0.0020857155: 2,\n",
       "         0.0015851557: 1,\n",
       "         0.0020858373: 3})"
      ]
     },
     "execution_count": 109,
     "metadata": {},
     "output_type": "execute_result"
    }
   ],
   "source": [
    "collections.Counter(time_pre)"
   ]
  },
  {
   "cell_type": "code",
   "execution_count": 114,
   "metadata": {},
   "outputs": [],
   "source": [
    "#x_train.shape\n",
    "pre_t=[0 if j>0.0020857750 else 1 for j in time_pre]"
   ]
  },
  {
   "cell_type": "code",
   "execution_count": 115,
   "metadata": {},
   "outputs": [
    {
     "data": {
      "text/plain": [
       "Counter({0: 93982, 1: 5})"
      ]
     },
     "execution_count": 115,
     "metadata": {},
     "output_type": "execute_result"
    }
   ],
   "source": [
    "collections.Counter(pre_t)"
   ]
  },
  {
   "cell_type": "code",
   "execution_count": 116,
   "metadata": {},
   "outputs": [
    {
     "data": {
      "text/plain": [
       "array([[93833,     5],\n",
       "       [  149,     0]], dtype=int64)"
      ]
     },
     "execution_count": 116,
     "metadata": {},
     "output_type": "execute_result"
    }
   ],
   "source": [
    "confusion_matrix(y_test,pre_t)"
   ]
  },
  {
   "cell_type": "code",
   "execution_count": 83,
   "metadata": {},
   "outputs": [],
   "source": [
    "model_l.save_weights(\"lstm_weights.h5\")\n",
    "model_l.save(\"lstm_model.h5\")"
   ]
  },
  {
   "cell_type": "code",
   "execution_count": 78,
   "metadata": {},
   "outputs": [
    {
     "data": {
      "text/plain": [
       "0    190477\n",
       "1       343\n",
       "Name: Class, dtype: int64"
      ]
     },
     "execution_count": 78,
     "metadata": {},
     "output_type": "execute_result"
    }
   ],
   "source": [
    "y_train.value_counts()"
   ]
  },
  {
   "cell_type": "code",
   "execution_count": 227,
   "metadata": {},
   "outputs": [],
   "source": [
    "#y_train=y_train.map({0:\"NF\",1:\"F\"})"
   ]
  },
  {
   "cell_type": "code",
   "execution_count": 22,
   "metadata": {},
   "outputs": [
    {
     "data": {
      "text/plain": [
       "0    190477\n",
       "1       343\n",
       "Name: Class, dtype: int64"
      ]
     },
     "execution_count": 22,
     "metadata": {},
     "output_type": "execute_result"
    }
   ],
   "source": [
    "y_train.value_counts()"
   ]
  },
  {
   "cell_type": "code",
   "execution_count": 193,
   "metadata": {},
   "outputs": [
    {
     "data": {
      "text/plain": [
       "OneHotEncoder(categories='auto', drop=None, dtype=<class 'numpy.float64'>,\n",
       "              handle_unknown='error', sparse=True)"
      ]
     },
     "execution_count": 193,
     "metadata": {},
     "output_type": "execute_result"
    }
   ],
   "source": [
    "X = [0,1]]\n",
    "enc=OneHotEncoder()\n",
    "enc.fit(X)"
   ]
  },
  {
   "cell_type": "code",
   "execution_count": 303,
   "metadata": {},
   "outputs": [],
   "source": [
    "#y_train"
   ]
  },
  {
   "cell_type": "code",
   "execution_count": 17,
   "metadata": {},
   "outputs": [],
   "source": [
    "catrep=pd.get_dummies(y_train)"
   ]
  },
  {
   "cell_type": "code",
   "execution_count": 235,
   "metadata": {},
   "outputs": [
    {
     "data": {
      "text/plain": [
       "0    190477\n",
       "1       343\n",
       "Name: 1, dtype: int64"
      ]
     },
     "execution_count": 235,
     "metadata": {},
     "output_type": "execute_result"
    }
   ],
   "source": [
    "catrep.fillna(-1)[1].value_counts()"
   ]
  },
  {
   "cell_type": "code",
   "execution_count": 207,
   "metadata": {},
   "outputs": [
    {
     "data": {
      "text/plain": [
       "0    190477\n",
       "1       343\n",
       "Name: 1, dtype: int64"
      ]
     },
     "execution_count": 207,
     "metadata": {},
     "output_type": "execute_result"
    }
   ],
   "source": [
    "#enc.inverse_transform(y_train)\n",
    "catrep[1].value_counts()"
   ]
  },
  {
   "cell_type": "code",
   "execution_count": 69,
   "metadata": {},
   "outputs": [
    {
     "data": {
      "text/plain": [
       "(190820, 1)"
      ]
     },
     "execution_count": 69,
     "metadata": {},
     "output_type": "execute_result"
    }
   ],
   "source": [
    "X_train.shape[1:]"
   ]
  },
  {
   "cell_type": "code",
   "execution_count": 77,
   "metadata": {},
   "outputs": [
    {
     "data": {
      "text/plain": [
       "(190820, 30, 1)"
      ]
     },
     "execution_count": 77,
     "metadata": {},
     "output_type": "execute_result"
    }
   ],
   "source": [
    "X_train.shape"
   ]
  },
  {
   "cell_type": "code",
   "execution_count": 23,
   "metadata": {},
   "outputs": [
    {
     "data": {
      "text/plain": [
       "(190820,)"
      ]
     },
     "execution_count": 23,
     "metadata": {},
     "output_type": "execute_result"
    }
   ],
   "source": [
    "y_train.shape"
   ]
  },
  {
   "cell_type": "code",
   "execution_count": 18,
   "metadata": {},
   "outputs": [
    {
     "data": {
      "text/plain": [
       "array([[1, 0],\n",
       "       [1, 0],\n",
       "       [1, 0],\n",
       "       ...,\n",
       "       [1, 0],\n",
       "       [1, 0],\n",
       "       [1, 0]], dtype=uint8)"
      ]
     },
     "execution_count": 18,
     "metadata": {},
     "output_type": "execute_result"
    }
   ],
   "source": [
    "catrep.to_numpy()"
   ]
  },
  {
   "cell_type": "code",
   "execution_count": 230,
   "metadata": {},
   "outputs": [
    {
     "data": {
      "text/plain": [
       "(190820,)"
      ]
     },
     "execution_count": 230,
     "metadata": {},
     "output_type": "execute_result"
    }
   ],
   "source": [
    "#weights = class_weight.compute_class_weight('balanced',                                           np.unique(y_train),  y_train)\n",
    "\n",
    "#X_train\n",
    "y_train.shape"
   ]
  },
  {
   "cell_type": "code",
   "execution_count": 237,
   "metadata": {},
   "outputs": [],
   "source": [
    "#X_train"
   ]
  },
  {
   "cell_type": "code",
   "execution_count": 27,
   "metadata": {},
   "outputs": [
    {
     "name": "stdout",
     "output_type": "stream",
     "text": [
      "Epoch 1/10\n",
      "5964/5964 [==============================] - 49s 8ms/step - loss: 0.0063\n",
      "Epoch 2/10\n",
      "5964/5964 [==============================] - 40s 7ms/step - loss: 0.0038\n",
      "Epoch 3/10\n",
      "5964/5964 [==============================] - 41s 7ms/step - loss: 0.0035\n",
      "Epoch 4/10\n",
      "5964/5964 [==============================] - 39s 7ms/step - loss: 0.0034\n",
      "Epoch 5/10\n",
      "5964/5964 [==============================] - 40s 7ms/step - loss: 0.0034\n",
      "Epoch 6/10\n",
      "5964/5964 [==============================] - 40s 7ms/step - loss: 0.0034: 0s - loss: 0.00 - ETA: 0s - loss:\n",
      "Epoch 7/10\n",
      "5964/5964 [==============================] - 40s 7ms/step - loss: 0.0032\n",
      "Epoch 8/10\n",
      "5964/5964 [==============================] - 40s 7ms/step - loss: 0.0031\n",
      "Epoch 9/10\n",
      "5964/5964 [==============================] - 40s 7ms/step - loss: 0.0031: 0s - \n",
      "Epoch 10/10\n",
      "5964/5964 [==============================] - 43s 7ms/step - loss: 0.0031\n"
     ]
    },
    {
     "data": {
      "text/plain": [
       "<tensorflow.python.keras.callbacks.History at 0x2439eb8f688>"
      ]
     },
     "execution_count": 27,
     "metadata": {},
     "output_type": "execute_result"
    }
   ],
   "source": [
    "model.fit(X_train,y_train,epochs=10)#,loss=\"binary_crossentropy\",optimizer=\"adam\",)"
   ]
  },
  {
   "cell_type": "code",
   "execution_count": 82,
   "metadata": {},
   "outputs": [],
   "source": [
    "model.save_weights(\"convd_weights.h5\")\n",
    "model.save(\"convd_model.h5\")"
   ]
  },
  {
   "cell_type": "code",
   "execution_count": 31,
   "metadata": {},
   "outputs": [],
   "source": [
    "X_test=X_test.to_numpy()\n",
    "#X_test.shape"
   ]
  },
  {
   "cell_type": "code",
   "execution_count": 32,
   "metadata": {},
   "outputs": [],
   "source": [
    "X_test=X_test.reshape(X_test.shape[0],X_test.shape[1],1)"
   ]
  },
  {
   "cell_type": "code",
   "execution_count": 40,
   "metadata": {},
   "outputs": [],
   "source": [
    "cust=y_test.reset_index().drop(columns=\"index\")"
   ]
  },
  {
   "cell_type": "code",
   "execution_count": 41,
   "metadata": {},
   "outputs": [
    {
     "data": {
      "text/plain": [
       "Int64Index([    0,   565,  3025,  3228,  4178,  4640,  5100,  5756,  6054,\n",
       "             6368,  7011,  7846,  8090,  8379,  8456,  9203, 10279, 10634,\n",
       "            11066, 11245, 13509, 16473, 16564, 16592, 16839, 17345, 17388,\n",
       "            18130, 18544, 18785, 18861, 19281, 19442, 19821, 20031, 21199,\n",
       "            22412, 22588, 22718, 22797, 23380, 24197, 25774, 25903, 27670,\n",
       "            27885, 28803, 30129, 30923, 30971, 31055, 31337, 31575, 32102,\n",
       "            32656, 32949, 33127, 34064, 35049, 35931, 36216, 36674, 36677,\n",
       "            36918, 37190, 37427, 37841, 37881, 38134, 40555, 40663, 40729,\n",
       "            41451, 41626, 43088, 43475, 44671, 45276, 45516, 46943, 47649,\n",
       "            48678, 48954, 50442, 50500, 51016, 51622, 53465, 53920, 54605,\n",
       "            55409, 55459, 55764, 55799, 56196, 56282, 56288, 56467, 57389,\n",
       "            57800],\n",
       "           dtype='int64')"
      ]
     },
     "execution_count": 41,
     "metadata": {},
     "output_type": "execute_result"
    }
   ],
   "source": [
    "cust.loc[cust['Class']==1].index[0:100]"
   ]
  },
  {
   "cell_type": "code",
   "execution_count": null,
   "metadata": {},
   "outputs": [],
   "source": []
  },
  {
   "cell_type": "code",
   "execution_count": 36,
   "metadata": {},
   "outputs": [],
   "source": [
    "#X.columns"
   ]
  },
  {
   "cell_type": "code",
   "execution_count": 33,
   "metadata": {},
   "outputs": [],
   "source": [
    "prt=model.predict(X_test)"
   ]
  },
  {
   "cell_type": "code",
   "execution_count": 37,
   "metadata": {},
   "outputs": [
    {
     "data": {
      "text/plain": [
       "0.82092357"
      ]
     },
     "execution_count": 37,
     "metadata": {},
     "output_type": "execute_result"
    }
   ],
   "source": [
    "prt[0][0]"
   ]
  },
  {
   "cell_type": "code",
   "execution_count": 42,
   "metadata": {},
   "outputs": [
    {
     "data": {
      "text/plain": [
       "0.9720627"
      ]
     },
     "execution_count": 42,
     "metadata": {},
     "output_type": "execute_result"
    }
   ],
   "source": [
    "prt[565][0]"
   ]
  },
  {
   "cell_type": "code",
   "execution_count": 45,
   "metadata": {},
   "outputs": [
    {
     "data": {
      "text/plain": [
       "7.684969e-06"
      ]
     },
     "execution_count": 45,
     "metadata": {},
     "output_type": "execute_result"
    }
   ],
   "source": [
    "c[10][0]"
   ]
  },
  {
   "cell_type": "code",
   "execution_count": 46,
   "metadata": {},
   "outputs": [
    {
     "data": {
      "text/plain": [
       "0    93838\n",
       "1      149\n",
       "Name: Class, dtype: int64"
      ]
     },
     "execution_count": 46,
     "metadata": {},
     "output_type": "execute_result"
    }
   ],
   "source": [
    "y_test.value_counts()"
   ]
  },
  {
   "cell_type": "code",
   "execution_count": 62,
   "metadata": {},
   "outputs": [],
   "source": [
    "res=[ 1 if [i][0]>0.05 else 0 for i in prt ]"
   ]
  },
  {
   "cell_type": "code",
   "execution_count": 48,
   "metadata": {},
   "outputs": [
    {
     "data": {
      "text/plain": [
       "Counter({1: 148, 0: 93839})"
      ]
     },
     "execution_count": 48,
     "metadata": {},
     "output_type": "execute_result"
    }
   ],
   "source": [
    "import collections \n",
    "collections.Counter(res)"
   ]
  },
  {
   "cell_type": "code",
   "execution_count": 330,
   "metadata": {},
   "outputs": [],
   "source": [
    "z_c=[prt[i][0] for i in range(0,len(prt))]\n",
    "th=[0 if i<0.6 else 1 for i in z_o]"
   ]
  },
  {
   "cell_type": "code",
   "execution_count": 327,
   "metadata": {},
   "outputs": [
    {
     "data": {
      "text/plain": [
       "0    93838\n",
       "1      149\n",
       "Name: Class, dtype: int64"
      ]
     },
     "execution_count": 327,
     "metadata": {},
     "output_type": "execute_result"
    }
   ],
   "source": [
    "y_test.value_counts()"
   ]
  },
  {
   "cell_type": "code",
   "execution_count": 331,
   "metadata": {},
   "outputs": [
    {
     "data": {
      "text/plain": [
       "Counter({1: 137, 0: 93850})"
      ]
     },
     "execution_count": 331,
     "metadata": {},
     "output_type": "execute_result"
    }
   ],
   "source": [
    "collections.Counter(th)"
   ]
  },
  {
   "cell_type": "code",
   "execution_count": null,
   "metadata": {},
   "outputs": [],
   "source": []
  },
  {
   "cell_type": "code",
   "execution_count": 63,
   "metadata": {},
   "outputs": [
    {
     "data": {
      "text/plain": [
       "array([[93741,    97],\n",
       "       [   28,   121]], dtype=int64)"
      ]
     },
     "execution_count": 63,
     "metadata": {},
     "output_type": "execute_result"
    }
   ],
   "source": [
    "from sklearn.metrics import confusion_matrix\n",
    "confusion_matrix(y_test,res)"
   ]
  },
  {
   "cell_type": "code",
   "execution_count": 188,
   "metadata": {},
   "outputs": [
    {
     "data": {
      "text/plain": [
       "array([[93810,    28],\n",
       "       [   23,   126]], dtype=int64)"
      ]
     },
     "execution_count": 188,
     "metadata": {},
     "output_type": "execute_result"
    }
   ],
   "source": [
    "confusion_matrix(y_test,rest)"
   ]
  },
  {
   "cell_type": "code",
   "execution_count": 324,
   "metadata": {},
   "outputs": [
    {
     "data": {
      "text/plain": [
       "0.031308953"
      ]
     },
     "execution_count": 324,
     "metadata": {},
     "output_type": "execute_result"
    }
   ],
   "source": [
    "prt[57800][0]"
   ]
  },
  {
   "cell_type": "code",
   "execution_count": 310,
   "metadata": {},
   "outputs": [
    {
     "data": {
      "text/plain": [
       "0.9999994"
      ]
     },
     "execution_count": 310,
     "metadata": {},
     "output_type": "execute_result"
    }
   ],
   "source": [
    "prt[1][0]"
   ]
  },
  {
   "cell_type": "code",
   "execution_count": 285,
   "metadata": {},
   "outputs": [],
   "source": [
    "z_c=[prt[i][0] for i in range(0,len(prt))]"
   ]
  },
  {
   "cell_type": "code",
   "execution_count": 286,
   "metadata": {},
   "outputs": [],
   "source": [
    "z_o=[prt[i][1] for i in range(0,len(prt))]"
   ]
  },
  {
   "cell_type": "code",
   "execution_count": 291,
   "metadata": {},
   "outputs": [],
   "source": [
    "th=[1 if i<0.0001 else 0 for i in z_o]"
   ]
  },
  {
   "cell_type": "code",
   "execution_count": 292,
   "metadata": {},
   "outputs": [
    {
     "data": {
      "text/plain": [
       "Counter({0: 21061, 1: 72926})"
      ]
     },
     "execution_count": 292,
     "metadata": {},
     "output_type": "execute_result"
    }
   ],
   "source": [
    "collections.Counter(th)"
   ]
  },
  {
   "cell_type": "code",
   "execution_count": 260,
   "metadata": {},
   "outputs": [],
   "source": [
    "import collections\n",
    "#collections.Counter(z_o)"
   ]
  },
  {
   "cell_type": "code",
   "execution_count": 248,
   "metadata": {},
   "outputs": [
    {
     "data": {
      "text/plain": [
       "0    93838\n",
       "1      149\n",
       "Name: Class, dtype: int64"
      ]
     },
     "execution_count": 248,
     "metadata": {},
     "output_type": "execute_result"
    }
   ],
   "source": [
    "y_test.value_counts()"
   ]
  },
  {
   "cell_type": "code",
   "execution_count": 131,
   "metadata": {},
   "outputs": [
    {
     "data": {
      "text/plain": [
       "43428     1\n",
       "49906     0\n",
       "29474     0\n",
       "276481    0\n",
       "278846    0\n",
       "         ..\n",
       "211399    0\n",
       "245040    0\n",
       "97433     0\n",
       "94007     0\n",
       "176304    0\n",
       "Name: Class, Length: 93987, dtype: int64"
      ]
     },
     "execution_count": 131,
     "metadata": {},
     "output_type": "execute_result"
    }
   ],
   "source": [
    "y_test"
   ]
  },
  {
   "cell_type": "code",
   "execution_count": 164,
   "metadata": {},
   "outputs": [],
   "source": [
    "thrse=[0 if i>0.000000005 else 1  for i in prt]"
   ]
  },
  {
   "cell_type": "code",
   "execution_count": 289,
   "metadata": {},
   "outputs": [
    {
     "data": {
      "text/plain": [
       "Counter({0: 89815, 1: 4172})"
      ]
     },
     "execution_count": 289,
     "metadata": {},
     "output_type": "execute_result"
    }
   ],
   "source": [
    "import collections\n",
    "collections.Counter(thrse)"
   ]
  },
  {
   "cell_type": "code",
   "execution_count": 50,
   "metadata": {},
   "outputs": [],
   "source": [
    "\n"
   ]
  },
  {
   "cell_type": "code",
   "execution_count": 112,
   "metadata": {},
   "outputs": [],
   "source": [
    "import numpy as np"
   ]
  },
  {
   "cell_type": "code",
   "execution_count": 113,
   "metadata": {},
   "outputs": [],
   "source": [
    "unique, counts = np.unique(prt, return_counts=True)"
   ]
  },
  {
   "cell_type": "code",
   "execution_count": 115,
   "metadata": {},
   "outputs": [
    {
     "data": {
      "text/plain": [
       "(array([1.0599164e-10, 7.8151136e-10, 1.2341467e-09, ..., 9.9999952e-01,\n",
       "        9.9999964e-01, 1.0000000e+00], dtype=float32),\n",
       " array([1, 1, 1, ..., 5, 1, 3], dtype=int64))"
      ]
     },
     "execution_count": 115,
     "metadata": {},
     "output_type": "execute_result"
    }
   ],
   "source": [
    "unique,counts"
   ]
  },
  {
   "cell_type": "code",
   "execution_count": 118,
   "metadata": {},
   "outputs": [],
   "source": [
    "dic_count={}\n",
    "for i,j in zip(unique, counts):\n",
    "    dic_count[i]=j "
   ]
  },
  {
   "cell_type": "code",
   "execution_count": 119,
   "metadata": {},
   "outputs": [
    {
     "data": {
      "text/plain": [
       "{1.0599164e-10: 1,\n",
       " 7.8151136e-10: 1,\n",
       " 1.2341467e-09: 1,\n",
       " 1.4165223e-09: 1,\n",
       " 1.4585524e-09: 1,\n",
       " 2.1748954e-09: 1,\n",
       " 2.3293292e-09: 1,\n",
       " 3.3029242e-09: 1,\n",
       " 4.9634807e-09: 1,\n",
       " 4.9847704e-09: 1,\n",
       " 5.9904357e-09: 1,\n",
       " 6.1355134e-09: 1,\n",
       " 6.139599e-09: 1,\n",
       " 7.468981e-09: 1,\n",
       " 7.5150375e-09: 1,\n",
       " 8.63347e-09: 1,\n",
       " 9.283338e-09: 1,\n",
       " 1.1047854e-08: 1,\n",
       " 1.1149506e-08: 1,\n",
       " 1.1157548e-08: 1,\n",
       " 1.1339935e-08: 2,\n",
       " 1.2303703e-08: 1,\n",
       " 1.2316359e-08: 1,\n",
       " 1.262352e-08: 1,\n",
       " 1.291024e-08: 1,\n",
       " 1.2987594e-08: 1,\n",
       " 1.3338283e-08: 1,\n",
       " 1.4638959e-08: 1,\n",
       " 1.6264572e-08: 1,\n",
       " 1.703388e-08: 1,\n",
       " 1.7423364e-08: 1,\n",
       " 1.7931582e-08: 1,\n",
       " 1.8059334e-08: 1,\n",
       " 1.8557657e-08: 1,\n",
       " 2.001e-08: 1,\n",
       " 2.0118417e-08: 1,\n",
       " 2.1982766e-08: 1,\n",
       " 2.4133216e-08: 1,\n",
       " 2.4956485e-08: 1,\n",
       " 2.5321658e-08: 1,\n",
       " 2.6393009e-08: 1,\n",
       " 2.642076e-08: 1,\n",
       " 2.729977e-08: 1,\n",
       " 2.960588e-08: 1,\n",
       " 3.1155974e-08: 1,\n",
       " 3.369124e-08: 1,\n",
       " 3.5305153e-08: 1,\n",
       " 3.743312e-08: 1,\n",
       " 3.749186e-08: 1,\n",
       " 3.8533372e-08: 1,\n",
       " 4.068453e-08: 1,\n",
       " 4.1784364e-08: 1,\n",
       " 4.1925908e-08: 1,\n",
       " 4.3082792e-08: 1,\n",
       " 4.314455e-08: 1,\n",
       " 4.4480494e-08: 1,\n",
       " 4.574686e-08: 1,\n",
       " 4.5908042e-08: 1,\n",
       " 4.8071772e-08: 1,\n",
       " 4.9745815e-08: 1,\n",
       " 5.0274444e-08: 1,\n",
       " 5.5321514e-08: 2,\n",
       " 5.706008e-08: 1,\n",
       " 5.716455e-08: 1,\n",
       " 6.676231e-08: 1,\n",
       " 6.7360666e-08: 1,\n",
       " 6.803832e-08: 1,\n",
       " 6.889077e-08: 1,\n",
       " 6.89022e-08: 1,\n",
       " 6.9367815e-08: 1,\n",
       " 7.0701304e-08: 1,\n",
       " 7.5586414e-08: 1,\n",
       " 7.5750656e-08: 1,\n",
       " 7.713987e-08: 1,\n",
       " 7.745804e-08: 1,\n",
       " 7.939358e-08: 1,\n",
       " 8.02293e-08: 1,\n",
       " 8.0641385e-08: 1,\n",
       " 8.6858336e-08: 1,\n",
       " 8.826335e-08: 1,\n",
       " 8.9612946e-08: 1,\n",
       " 9.0315964e-08: 1,\n",
       " 9.357812e-08: 1,\n",
       " 9.437973e-08: 1,\n",
       " 9.4487795e-08: 1,\n",
       " 9.7437336e-08: 1,\n",
       " 9.9143875e-08: 1,\n",
       " 9.9833464e-08: 1,\n",
       " 1.0069729e-07: 1,\n",
       " 1.0214696e-07: 1,\n",
       " 1.0431373e-07: 1,\n",
       " 1.0929566e-07: 1,\n",
       " 1.10524326e-07: 1,\n",
       " 1.1132449e-07: 1,\n",
       " 1.11958194e-07: 1,\n",
       " 1.15851705e-07: 1,\n",
       " 1.1995895e-07: 1,\n",
       " 1.2063433e-07: 1,\n",
       " 1.2189265e-07: 1,\n",
       " 1.2343669e-07: 1,\n",
       " 1.2359088e-07: 1,\n",
       " 1.3080503e-07: 1,\n",
       " 1.3836005e-07: 1,\n",
       " 1.3939696e-07: 1,\n",
       " 1.4028703e-07: 1,\n",
       " 1.4120337e-07: 1,\n",
       " 1.4369151e-07: 1,\n",
       " 1.4410169e-07: 1,\n",
       " 1.4474863e-07: 1,\n",
       " 1.4614876e-07: 1,\n",
       " 1.4638576e-07: 1,\n",
       " 1.4666286e-07: 1,\n",
       " 1.4878164e-07: 1,\n",
       " 1.501191e-07: 1,\n",
       " 1.5064703e-07: 1,\n",
       " 1.5406546e-07: 1,\n",
       " 1.5494291e-07: 1,\n",
       " 1.5701096e-07: 1,\n",
       " 1.585527e-07: 1,\n",
       " 1.5920072e-07: 1,\n",
       " 1.593502e-07: 1,\n",
       " 1.6087208e-07: 1,\n",
       " 1.6104416e-07: 1,\n",
       " 1.6130977e-07: 1,\n",
       " 1.631854e-07: 1,\n",
       " 1.6488255e-07: 1,\n",
       " 1.6514835e-07: 1,\n",
       " 1.6664708e-07: 1,\n",
       " 1.667897e-07: 1,\n",
       " 1.706488e-07: 1,\n",
       " 1.7081764e-07: 1,\n",
       " 1.7121805e-07: 1,\n",
       " 1.7200443e-07: 1,\n",
       " 1.7387171e-07: 1,\n",
       " 1.78979e-07: 1,\n",
       " 1.8099603e-07: 1,\n",
       " 1.8315156e-07: 1,\n",
       " 1.8463363e-07: 1,\n",
       " 1.8543689e-07: 1,\n",
       " 1.8564091e-07: 1,\n",
       " 1.8650421e-07: 1,\n",
       " 1.8795193e-07: 1,\n",
       " 1.8795228e-07: 1,\n",
       " 1.8920903e-07: 2,\n",
       " 1.8978426e-07: 1,\n",
       " 1.9011232e-07: 1,\n",
       " 1.9251314e-07: 1,\n",
       " 1.938527e-07: 1,\n",
       " 1.9414836e-07: 1,\n",
       " 1.9458265e-07: 1,\n",
       " 1.9476516e-07: 1,\n",
       " 1.9757377e-07: 1,\n",
       " 1.9805748e-07: 1,\n",
       " 1.9971654e-07: 1,\n",
       " 2.014183e-07: 1,\n",
       " 2.0180438e-07: 1,\n",
       " 2.022128e-07: 1,\n",
       " 2.0388917e-07: 1,\n",
       " 2.0533942e-07: 1,\n",
       " 2.0585784e-07: 1,\n",
       " 2.0772899e-07: 1,\n",
       " 2.0868347e-07: 1,\n",
       " 2.0965913e-07: 1,\n",
       " 2.1399418e-07: 1,\n",
       " 2.1549042e-07: 1,\n",
       " 2.164886e-07: 1,\n",
       " 2.1698985e-07: 1,\n",
       " 2.1886927e-07: 1,\n",
       " 2.2012378e-07: 1,\n",
       " 2.2176309e-07: 1,\n",
       " 2.2360217e-07: 1,\n",
       " 2.243228e-07: 1,\n",
       " 2.2802341e-07: 1,\n",
       " 2.3325147e-07: 1,\n",
       " 2.3367919e-07: 1,\n",
       " 2.347547e-07: 1,\n",
       " 2.38672e-07: 1,\n",
       " 2.4029745e-07: 1,\n",
       " 2.439387e-07: 1,\n",
       " 2.4509322e-07: 1,\n",
       " 2.4669322e-07: 1,\n",
       " 2.4806698e-07: 1,\n",
       " 2.486387e-07: 1,\n",
       " 2.487113e-07: 1,\n",
       " 2.5068204e-07: 1,\n",
       " 2.5177624e-07: 1,\n",
       " 2.5579334e-07: 1,\n",
       " 2.558524e-07: 1,\n",
       " 2.560318e-07: 1,\n",
       " 2.5850466e-07: 1,\n",
       " 2.5917163e-07: 1,\n",
       " 2.6157352e-07: 1,\n",
       " 2.6159847e-07: 1,\n",
       " 2.6346524e-07: 1,\n",
       " 2.6489676e-07: 1,\n",
       " 2.6627436e-07: 1,\n",
       " 2.675379e-07: 1,\n",
       " 2.6815377e-07: 1,\n",
       " 2.7300175e-07: 1,\n",
       " 2.7406998e-07: 1,\n",
       " 2.743948e-07: 1,\n",
       " 2.756201e-07: 1,\n",
       " 2.7592966e-07: 1,\n",
       " 2.8058835e-07: 1,\n",
       " 2.8074254e-07: 1,\n",
       " 2.8184616e-07: 1,\n",
       " 2.826747e-07: 1,\n",
       " 2.8392887e-07: 1,\n",
       " 2.847907e-07: 1,\n",
       " 2.8616532e-07: 1,\n",
       " 2.8655666e-07: 1,\n",
       " 2.8689766e-07: 1,\n",
       " 2.9182863e-07: 1,\n",
       " 2.926385e-07: 1,\n",
       " 2.9437703e-07: 1,\n",
       " 2.944385e-07: 1,\n",
       " 2.9473014e-07: 1,\n",
       " 2.9655433e-07: 1,\n",
       " 2.973172e-07: 1,\n",
       " 2.9800248e-07: 1,\n",
       " 2.982959e-07: 1,\n",
       " 2.9857767e-07: 1,\n",
       " 2.9888108e-07: 1,\n",
       " 3.0077857e-07: 1,\n",
       " 3.0095362e-07: 1,\n",
       " 3.0297778e-07: 1,\n",
       " 3.0774106e-07: 1,\n",
       " 3.1048438e-07: 1,\n",
       " 3.1155932e-07: 1,\n",
       " 3.1157774e-07: 1,\n",
       " 3.1274323e-07: 1,\n",
       " 3.1917503e-07: 1,\n",
       " 3.1953076e-07: 1,\n",
       " 3.2342064e-07: 1,\n",
       " 3.235718e-07: 1,\n",
       " 3.2441008e-07: 1,\n",
       " 3.2626733e-07: 1,\n",
       " 3.267559e-07: 1,\n",
       " 3.278518e-07: 1,\n",
       " 3.3226638e-07: 1,\n",
       " 3.330303e-07: 1,\n",
       " 3.337062e-07: 1,\n",
       " 3.3505097e-07: 1,\n",
       " 3.352149e-07: 1,\n",
       " 3.369672e-07: 1,\n",
       " 3.391482e-07: 1,\n",
       " 3.392679e-07: 1,\n",
       " 3.415361e-07: 1,\n",
       " 3.4189327e-07: 1,\n",
       " 3.4230206e-07: 1,\n",
       " 3.4535645e-07: 1,\n",
       " 3.4626765e-07: 1,\n",
       " 3.472253e-07: 1,\n",
       " 3.477141e-07: 1,\n",
       " 3.4914524e-07: 1,\n",
       " 3.4987687e-07: 1,\n",
       " 3.5160855e-07: 1,\n",
       " 3.5454508e-07: 1,\n",
       " 3.5836976e-07: 1,\n",
       " 3.5990897e-07: 1,\n",
       " 3.6011323e-07: 1,\n",
       " 3.616589e-07: 1,\n",
       " 3.657549e-07: 1,\n",
       " 3.6671818e-07: 1,\n",
       " 3.6903614e-07: 1,\n",
       " 3.6923433e-07: 1,\n",
       " 3.7021277e-07: 1,\n",
       " 3.7248677e-07: 1,\n",
       " 3.7372965e-07: 1,\n",
       " 3.7386332e-07: 1,\n",
       " 3.7650966e-07: 1,\n",
       " 3.7956616e-07: 1,\n",
       " 3.7980516e-07: 1,\n",
       " 3.8463781e-07: 1,\n",
       " 3.887656e-07: 1,\n",
       " 3.891024e-07: 1,\n",
       " 3.908023e-07: 1,\n",
       " 3.9600144e-07: 1,\n",
       " 4.0241136e-07: 1,\n",
       " 4.0622595e-07: 1,\n",
       " 4.06612e-07: 1,\n",
       " 4.0677838e-07: 1,\n",
       " 4.0855238e-07: 1,\n",
       " 4.0863694e-07: 1,\n",
       " 4.0925391e-07: 1,\n",
       " 4.1021283e-07: 1,\n",
       " 4.1497864e-07: 1,\n",
       " 4.1523913e-07: 1,\n",
       " 4.152914e-07: 1,\n",
       " 4.155291e-07: 1,\n",
       " 4.1557587e-07: 1,\n",
       " 4.1575544e-07: 1,\n",
       " 4.1843361e-07: 1,\n",
       " 4.1892156e-07: 1,\n",
       " 4.230197e-07: 1,\n",
       " 4.2485036e-07: 1,\n",
       " 4.2739228e-07: 1,\n",
       " 4.276948e-07: 1,\n",
       " 4.281123e-07: 1,\n",
       " 4.286765e-07: 1,\n",
       " 4.3262287e-07: 1,\n",
       " 4.351565e-07: 1,\n",
       " 4.4293208e-07: 1,\n",
       " 4.4425875e-07: 1,\n",
       " 4.4582487e-07: 1,\n",
       " 4.4621788e-07: 1,\n",
       " 4.515109e-07: 1,\n",
       " 4.5194517e-07: 1,\n",
       " 4.5498447e-07: 1,\n",
       " 4.5570098e-07: 1,\n",
       " 4.5578963e-07: 1,\n",
       " 4.5655446e-07: 1,\n",
       " 4.5750286e-07: 1,\n",
       " 4.5917918e-07: 1,\n",
       " 4.6453425e-07: 1,\n",
       " 4.6519037e-07: 1,\n",
       " 4.6577767e-07: 1,\n",
       " 4.6925848e-07: 1,\n",
       " 4.698971e-07: 1,\n",
       " 4.7127304e-07: 1,\n",
       " 4.7220612e-07: 1,\n",
       " 4.7448938e-07: 1,\n",
       " 4.7492264e-07: 1,\n",
       " 4.766528e-07: 1,\n",
       " 4.7704475e-07: 1,\n",
       " 4.798207e-07: 1,\n",
       " 4.815255e-07: 1,\n",
       " 4.8341985e-07: 1,\n",
       " 4.867404e-07: 1,\n",
       " 4.8858396e-07: 1,\n",
       " 4.935702e-07: 1,\n",
       " 5.020222e-07: 1,\n",
       " 5.0281085e-07: 1,\n",
       " 5.040548e-07: 1,\n",
       " 5.048173e-07: 1,\n",
       " 5.0578933e-07: 1,\n",
       " 5.0834353e-07: 1,\n",
       " 5.1072703e-07: 1,\n",
       " 5.118905e-07: 1,\n",
       " 5.123247e-07: 1,\n",
       " 5.1270393e-07: 1,\n",
       " 5.1956545e-07: 1,\n",
       " 5.2139904e-07: 1,\n",
       " 5.224563e-07: 1,\n",
       " 5.2400617e-07: 1,\n",
       " 5.2525445e-07: 1,\n",
       " 5.27262e-07: 1,\n",
       " 5.283079e-07: 1,\n",
       " 5.354911e-07: 1,\n",
       " 5.4182965e-07: 1,\n",
       " 5.431448e-07: 1,\n",
       " 5.432235e-07: 1,\n",
       " 5.450595e-07: 1,\n",
       " 5.459506e-07: 1,\n",
       " 5.4753156e-07: 1,\n",
       " 5.5607757e-07: 1,\n",
       " 5.584638e-07: 1,\n",
       " 5.5922914e-07: 1,\n",
       " 5.6157046e-07: 1,\n",
       " 5.629829e-07: 1,\n",
       " 5.6334005e-07: 1,\n",
       " 5.655762e-07: 1,\n",
       " 5.658535e-07: 1,\n",
       " 5.6784506e-07: 1,\n",
       " 5.6806766e-07: 1,\n",
       " 5.725356e-07: 1,\n",
       " 5.7304527e-07: 1,\n",
       " 5.7354555e-07: 1,\n",
       " 5.749009e-07: 1,\n",
       " 5.7605837e-07: 1,\n",
       " 5.763188e-07: 1,\n",
       " 5.808517e-07: 1,\n",
       " 5.8174646e-07: 1,\n",
       " 5.8209554e-07: 1,\n",
       " 5.825942e-07: 1,\n",
       " 5.8583515e-07: 1,\n",
       " 5.890576e-07: 1,\n",
       " 5.9104514e-07: 1,\n",
       " 5.9316324e-07: 1,\n",
       " 5.940662e-07: 1,\n",
       " 5.9412e-07: 1,\n",
       " 5.9714307e-07: 1,\n",
       " 6.0492175e-07: 1,\n",
       " 6.0686205e-07: 1,\n",
       " 6.0691417e-07: 1,\n",
       " 6.0901476e-07: 1,\n",
       " 6.1010593e-07: 1,\n",
       " 6.1285255e-07: 1,\n",
       " 6.1380655e-07: 1,\n",
       " 6.139547e-07: 1,\n",
       " 6.1535155e-07: 1,\n",
       " 6.1720345e-07: 1,\n",
       " 6.18268e-07: 1,\n",
       " 6.203529e-07: 1,\n",
       " 6.211201e-07: 1,\n",
       " 6.2203594e-07: 1,\n",
       " 6.233822e-07: 1,\n",
       " 6.2378126e-07: 1,\n",
       " 6.2599224e-07: 1,\n",
       " 6.280672e-07: 2,\n",
       " 6.3157376e-07: 1,\n",
       " 6.3391747e-07: 1,\n",
       " 6.3571616e-07: 1,\n",
       " 6.3623656e-07: 1,\n",
       " 6.400194e-07: 1,\n",
       " 6.4076323e-07: 1,\n",
       " 6.4151897e-07: 1,\n",
       " 6.4242937e-07: 1,\n",
       " 6.4317544e-07: 1,\n",
       " 6.432116e-07: 1,\n",
       " 6.4345517e-07: 1,\n",
       " 6.44549e-07: 1,\n",
       " 6.4636674e-07: 1,\n",
       " 6.475847e-07: 1,\n",
       " 6.478318e-07: 1,\n",
       " 6.5165e-07: 1,\n",
       " 6.536218e-07: 1,\n",
       " 6.567729e-07: 1,\n",
       " 6.58654e-07: 1,\n",
       " 6.6072005e-07: 1,\n",
       " 6.627148e-07: 1,\n",
       " 6.6423274e-07: 1,\n",
       " 6.6449064e-07: 1,\n",
       " 6.7057977e-07: 1,\n",
       " 6.711012e-07: 1,\n",
       " 6.72276e-07: 1,\n",
       " 6.7537013e-07: 1,\n",
       " 6.773245e-07: 1,\n",
       " 6.789012e-07: 1,\n",
       " 6.7943427e-07: 1,\n",
       " 6.8082556e-07: 1,\n",
       " 6.824142e-07: 1,\n",
       " 6.866563e-07: 1,\n",
       " 6.87493e-07: 1,\n",
       " 6.93918e-07: 1,\n",
       " 6.965037e-07: 1,\n",
       " 6.978055e-07: 1,\n",
       " 6.9790934e-07: 1,\n",
       " 6.993818e-07: 1,\n",
       " 6.998609e-07: 1,\n",
       " 7.0061014e-07: 1,\n",
       " 7.069709e-07: 1,\n",
       " 7.077636e-07: 1,\n",
       " 7.081167e-07: 1,\n",
       " 7.117436e-07: 1,\n",
       " 7.131895e-07: 1,\n",
       " 7.1503166e-07: 1,\n",
       " 7.1730676e-07: 1,\n",
       " 7.1855766e-07: 1,\n",
       " 7.1930083e-07: 1,\n",
       " 7.3424576e-07: 1,\n",
       " 7.3430385e-07: 1,\n",
       " 7.3674914e-07: 1,\n",
       " 7.3785094e-07: 1,\n",
       " 7.4139257e-07: 1,\n",
       " 7.4374293e-07: 1,\n",
       " 7.4916954e-07: 1,\n",
       " 7.539646e-07: 1,\n",
       " 7.5406456e-07: 1,\n",
       " 7.584098e-07: 1,\n",
       " 7.5871725e-07: 1,\n",
       " 7.655552e-07: 1,\n",
       " 7.6570126e-07: 1,\n",
       " 7.672092e-07: 1,\n",
       " 7.689474e-07: 1,\n",
       " 7.712763e-07: 1,\n",
       " 7.723458e-07: 1,\n",
       " 7.726132e-07: 1,\n",
       " 7.7386164e-07: 1,\n",
       " 7.764298e-07: 1,\n",
       " 7.773448e-07: 1,\n",
       " 7.788749e-07: 1,\n",
       " 7.79885e-07: 1,\n",
       " 7.826642e-07: 1,\n",
       " 7.857626e-07: 1,\n",
       " 7.858181e-07: 1,\n",
       " 7.8877406e-07: 1,\n",
       " 7.8924813e-07: 1,\n",
       " 7.8938666e-07: 1,\n",
       " 7.9026495e-07: 1,\n",
       " 7.91283e-07: 1,\n",
       " 7.931401e-07: 1,\n",
       " 7.9508715e-07: 1,\n",
       " 7.965003e-07: 1,\n",
       " 7.9717205e-07: 1,\n",
       " 7.9748077e-07: 1,\n",
       " 8.018758e-07: 1,\n",
       " 8.0605133e-07: 1,\n",
       " 8.065327e-07: 2,\n",
       " 8.066173e-07: 1,\n",
       " 8.0666115e-07: 1,\n",
       " 8.085474e-07: 1,\n",
       " 8.0858666e-07: 1,\n",
       " 8.102394e-07: 1,\n",
       " 8.114596e-07: 1,\n",
       " 8.1552247e-07: 1,\n",
       " 8.1657777e-07: 1,\n",
       " 8.2033375e-07: 1,\n",
       " 8.2086666e-07: 1,\n",
       " 8.257441e-07: 1,\n",
       " 8.2576065e-07: 1,\n",
       " 8.262057e-07: 1,\n",
       " 8.2648074e-07: 1,\n",
       " 8.2657533e-07: 1,\n",
       " 8.2803336e-07: 1,\n",
       " 8.2874675e-07: 1,\n",
       " 8.306275e-07: 1,\n",
       " 8.3067664e-07: 1,\n",
       " 8.309112e-07: 1,\n",
       " 8.3145335e-07: 1,\n",
       " 8.342253e-07: 1,\n",
       " 8.3820953e-07: 1,\n",
       " 8.382735e-07: 1,\n",
       " 8.4211155e-07: 1,\n",
       " 8.4316025e-07: 1,\n",
       " 8.432632e-07: 1,\n",
       " 8.4418934e-07: 1,\n",
       " 8.4612054e-07: 1,\n",
       " 8.482349e-07: 1,\n",
       " 8.5356305e-07: 1,\n",
       " 8.5472465e-07: 1,\n",
       " 8.549513e-07: 1,\n",
       " 8.552106e-07: 1,\n",
       " 8.555654e-07: 1,\n",
       " 8.616871e-07: 1,\n",
       " 8.637572e-07: 1,\n",
       " 8.6463575e-07: 1,\n",
       " 8.652404e-07: 1,\n",
       " 8.657199e-07: 1,\n",
       " 8.743024e-07: 1,\n",
       " 8.750189e-07: 1,\n",
       " 8.781772e-07: 1,\n",
       " 8.791308e-07: 1,\n",
       " 8.7971875e-07: 1,\n",
       " 8.8048e-07: 1,\n",
       " 8.807815e-07: 1,\n",
       " 8.8207264e-07: 1,\n",
       " 8.8266256e-07: 1,\n",
       " 8.827198e-07: 1,\n",
       " 8.886933e-07: 1,\n",
       " 8.8975673e-07: 1,\n",
       " 8.9004277e-07: 1,\n",
       " 8.953679e-07: 1,\n",
       " 8.9603594e-07: 1,\n",
       " 8.9713126e-07: 1,\n",
       " 8.9725444e-07: 1,\n",
       " 8.9929847e-07: 1,\n",
       " 8.9989726e-07: 1,\n",
       " 9.026675e-07: 1,\n",
       " 9.034642e-07: 1,\n",
       " 9.0422014e-07: 1,\n",
       " 9.0556205e-07: 1,\n",
       " 9.090344e-07: 1,\n",
       " 9.111417e-07: 1,\n",
       " 9.1323125e-07: 1,\n",
       " 9.1933407e-07: 1,\n",
       " 9.1986817e-07: 1,\n",
       " 9.1994804e-07: 1,\n",
       " 9.2015244e-07: 1,\n",
       " 9.201937e-07: 1,\n",
       " 9.218802e-07: 1,\n",
       " 9.238578e-07: 1,\n",
       " 9.269997e-07: 1,\n",
       " 9.2937734e-07: 1,\n",
       " 9.3040336e-07: 1,\n",
       " 9.313648e-07: 1,\n",
       " 9.3180455e-07: 1,\n",
       " 9.3258245e-07: 1,\n",
       " 9.3388275e-07: 1,\n",
       " 9.3758706e-07: 1,\n",
       " 9.384342e-07: 1,\n",
       " 9.3848877e-07: 1,\n",
       " 9.390922e-07: 1,\n",
       " 9.443731e-07: 1,\n",
       " 9.4579264e-07: 1,\n",
       " 9.4813703e-07: 1,\n",
       " 9.501782e-07: 1,\n",
       " 9.519215e-07: 1,\n",
       " 9.5215483e-07: 1,\n",
       " 9.5243274e-07: 1,\n",
       " 9.537334e-07: 1,\n",
       " 9.548683e-07: 1,\n",
       " 9.557548e-07: 1,\n",
       " 9.608443e-07: 1,\n",
       " 9.623711e-07: 1,\n",
       " 9.63057e-07: 1,\n",
       " 9.706844e-07: 1,\n",
       " 9.725237e-07: 1,\n",
       " 9.744929e-07: 1,\n",
       " 9.768861e-07: 1,\n",
       " 9.84362e-07: 1,\n",
       " 9.84409e-07: 1,\n",
       " 9.889001e-07: 1,\n",
       " 9.91305e-07: 1,\n",
       " 9.941822e-07: 1,\n",
       " 9.948101e-07: 1,\n",
       " 9.984647e-07: 1,\n",
       " 1.0009034e-06: 1,\n",
       " 1.0015192e-06: 1,\n",
       " 1.001801e-06: 1,\n",
       " 1.003772e-06: 1,\n",
       " 1.0043073e-06: 1,\n",
       " 1.0045496e-06: 1,\n",
       " 1.0052493e-06: 1,\n",
       " 1.0068572e-06: 1,\n",
       " 1.0086699e-06: 1,\n",
       " 1.0121668e-06: 1,\n",
       " 1.0130832e-06: 1,\n",
       " 1.0144436e-06: 1,\n",
       " 1.0208994e-06: 1,\n",
       " 1.0284189e-06: 1,\n",
       " 1.0289928e-06: 1,\n",
       " 1.0299108e-06: 1,\n",
       " 1.0313231e-06: 1,\n",
       " 1.0381973e-06: 1,\n",
       " 1.038335e-06: 1,\n",
       " 1.0413764e-06: 1,\n",
       " 1.0555316e-06: 1,\n",
       " 1.0573652e-06: 1,\n",
       " 1.0582197e-06: 1,\n",
       " 1.0597852e-06: 1,\n",
       " 1.0612233e-06: 1,\n",
       " 1.0614702e-06: 1,\n",
       " 1.0617396e-06: 1,\n",
       " 1.0618206e-06: 1,\n",
       " 1.062925e-06: 1,\n",
       " 1.0635212e-06: 1,\n",
       " 1.0652732e-06: 1,\n",
       " 1.0656623e-06: 1,\n",
       " 1.0658372e-06: 1,\n",
       " 1.0699598e-06: 1,\n",
       " 1.0708183e-06: 1,\n",
       " 1.0783958e-06: 1,\n",
       " 1.0784205e-06: 1,\n",
       " 1.0796481e-06: 1,\n",
       " 1.0796595e-06: 1,\n",
       " 1.0824689e-06: 1,\n",
       " 1.0855402e-06: 1,\n",
       " 1.0869201e-06: 1,\n",
       " 1.0967714e-06: 1,\n",
       " 1.0996725e-06: 1,\n",
       " 1.1020505e-06: 1,\n",
       " 1.1022744e-06: 1,\n",
       " 1.1045253e-06: 1,\n",
       " 1.104835e-06: 1,\n",
       " 1.1058554e-06: 1,\n",
       " 1.1066129e-06: 1,\n",
       " 1.1123667e-06: 1,\n",
       " 1.1152847e-06: 1,\n",
       " 1.1163967e-06: 1,\n",
       " 1.1173329e-06: 1,\n",
       " 1.1177592e-06: 1,\n",
       " 1.1229777e-06: 1,\n",
       " 1.1231822e-06: 1,\n",
       " 1.1250476e-06: 1,\n",
       " 1.125553e-06: 1,\n",
       " 1.1290513e-06: 1,\n",
       " 1.1330607e-06: 1,\n",
       " 1.1333439e-06: 1,\n",
       " 1.1335417e-06: 1,\n",
       " 1.1352066e-06: 1,\n",
       " 1.1406609e-06: 1,\n",
       " 1.1457512e-06: 2,\n",
       " 1.1485606e-06: 1,\n",
       " 1.150512e-06: 1,\n",
       " 1.1541529e-06: 1,\n",
       " 1.1573316e-06: 1,\n",
       " 1.1657547e-06: 1,\n",
       " 1.1663753e-06: 1,\n",
       " 1.1673802e-06: 1,\n",
       " 1.1688863e-06: 1,\n",
       " 1.1695375e-06: 1,\n",
       " 1.1695844e-06: 1,\n",
       " 1.1762949e-06: 1,\n",
       " 1.1812671e-06: 1,\n",
       " 1.1825948e-06: 1,\n",
       " 1.1833383e-06: 1,\n",
       " 1.184203e-06: 1,\n",
       " 1.1862071e-06: 1,\n",
       " 1.1873219e-06: 1,\n",
       " 1.1917109e-06: 1,\n",
       " 1.1921895e-06: 1,\n",
       " 1.1949624e-06: 1,\n",
       " 1.1973477e-06: 1,\n",
       " 1.1995055e-06: 1,\n",
       " 1.2015778e-06: 1,\n",
       " 1.2021612e-06: 1,\n",
       " 1.2071081e-06: 1,\n",
       " 1.2087115e-06: 1,\n",
       " 1.2097737e-06: 1,\n",
       " 1.2127737e-06: 1,\n",
       " 1.2129425e-06: 1,\n",
       " 1.2177549e-06: 1,\n",
       " 1.220863e-06: 1,\n",
       " 1.2232942e-06: 1,\n",
       " 1.2263465e-06: 1,\n",
       " 1.2272228e-06: 1,\n",
       " 1.2303293e-06: 1,\n",
       " 1.2306697e-06: 1,\n",
       " 1.2327217e-06: 1,\n",
       " 1.2427242e-06: 1,\n",
       " 1.2448736e-06: 1,\n",
       " 1.2449401e-06: 1,\n",
       " 1.2469732e-06: 1,\n",
       " 1.2481522e-06: 1,\n",
       " 1.2482832e-06: 1,\n",
       " 1.2518549e-06: 1,\n",
       " 1.254227e-06: 1,\n",
       " 1.2555996e-06: 1,\n",
       " 1.2562859e-06: 1,\n",
       " 1.2585884e-06: 1,\n",
       " 1.2670027e-06: 1,\n",
       " 1.2726933e-06: 1,\n",
       " 1.2795817e-06: 1,\n",
       " 1.2798233e-06: 1,\n",
       " 1.280656e-06: 1,\n",
       " 1.2848728e-06: 1,\n",
       " 1.2884312e-06: 1,\n",
       " 1.2931953e-06: 1,\n",
       " 1.2973903e-06: 1,\n",
       " 1.2976515e-06: 1,\n",
       " 1.2992699e-06: 1,\n",
       " 1.3003794e-06: 1,\n",
       " 1.3051103e-06: 1,\n",
       " 1.3053531e-06: 1,\n",
       " 1.3132683e-06: 1,\n",
       " 1.3147495e-06: 1,\n",
       " 1.3155059e-06: 1,\n",
       " 1.3190962e-06: 1,\n",
       " 1.3197644e-06: 1,\n",
       " 1.3226019e-06: 1,\n",
       " 1.3247542e-06: 1,\n",
       " 1.325247e-06: 1,\n",
       " 1.3256982e-06: 1,\n",
       " 1.3315039e-06: 1,\n",
       " 1.3329574e-06: 1,\n",
       " 1.3329891e-06: 1,\n",
       " 1.3341414e-06: 1,\n",
       " 1.3378044e-06: 1,\n",
       " 1.3388689e-06: 1,\n",
       " 1.3438142e-06: 1,\n",
       " 1.3441027e-06: 1,\n",
       " 1.3458381e-06: 1,\n",
       " 1.3535623e-06: 1,\n",
       " 1.3538413e-06: 1,\n",
       " 1.3541407e-06: 1,\n",
       " 1.3562501e-06: 1,\n",
       " 1.3610883e-06: 1,\n",
       " 1.3630237e-06: 1,\n",
       " 1.3677061e-06: 1,\n",
       " 1.3701017e-06: 1,\n",
       " 1.3729125e-06: 1,\n",
       " 1.3745383e-06: 1,\n",
       " 1.3777195e-06: 1,\n",
       " 1.3779377e-06: 1,\n",
       " 1.3788184e-06: 1,\n",
       " 1.378963e-06: 1,\n",
       " 1.3894033e-06: 1,\n",
       " 1.3902264e-06: 1,\n",
       " 1.3902356e-06: 1,\n",
       " 1.39695e-06: 1,\n",
       " 1.3976709e-06: 1,\n",
       " 1.4017448e-06: 1,\n",
       " 1.4018278e-06: 1,\n",
       " 1.4099971e-06: 1,\n",
       " 1.4141988e-06: 1,\n",
       " 1.4148436e-06: 1,\n",
       " 1.4151838e-06: 1,\n",
       " 1.4155725e-06: 1,\n",
       " 1.4165637e-06: 1,\n",
       " 1.4169191e-06: 1,\n",
       " 1.4169487e-06: 1,\n",
       " 1.4189081e-06: 1,\n",
       " 1.420243e-06: 1,\n",
       " 1.4391993e-06: 1,\n",
       " 1.4422867e-06: 1,\n",
       " 1.4431135e-06: 1,\n",
       " 1.4457707e-06: 1,\n",
       " 1.4464217e-06: 1,\n",
       " 1.4474442e-06: 1,\n",
       " 1.4478985e-06: 1,\n",
       " 1.4499684e-06: 1,\n",
       " 1.4555421e-06: 1,\n",
       " 1.456785e-06: 1,\n",
       " 1.4628313e-06: 1,\n",
       " 1.4631005e-06: 1,\n",
       " 1.4652467e-06: 1,\n",
       " 1.4671077e-06: 1,\n",
       " 1.4674184e-06: 1,\n",
       " 1.4681743e-06: 1,\n",
       " 1.4755788e-06: 1,\n",
       " 1.476436e-06: 1,\n",
       " 1.4789487e-06: 1,\n",
       " 1.4790883e-06: 1,\n",
       " 1.4823702e-06: 1,\n",
       " 1.4839727e-06: 1,\n",
       " 1.4874681e-06: 1,\n",
       " 1.4909663e-06: 1,\n",
       " 1.4917e-06: 1,\n",
       " 1.4922749e-06: 1,\n",
       " 1.4950313e-06: 1,\n",
       " 1.4969715e-06: 1,\n",
       " 1.4986485e-06: 1,\n",
       " 1.499954e-06: 1,\n",
       " 1.5002287e-06: 1,\n",
       " 1.5101707e-06: 1,\n",
       " 1.5112699e-06: 1,\n",
       " 1.5133612e-06: 1,\n",
       " 1.5157545e-06: 1,\n",
       " 1.5174265e-06: 1,\n",
       " 1.5191351e-06: 1,\n",
       " 1.5197452e-06: 1,\n",
       " 1.5210212e-06: 1,\n",
       " 1.5211575e-06: 1,\n",
       " 1.5257981e-06: 1,\n",
       " 1.526357e-06: 1,\n",
       " 1.5310221e-06: 1,\n",
       " 1.5317114e-06: 1,\n",
       " 1.5415108e-06: 1,\n",
       " 1.5432464e-06: 1,\n",
       " 1.5443624e-06: 1,\n",
       " 1.547302e-06: 1,\n",
       " 1.5498969e-06: 1,\n",
       " 1.5554867e-06: 1,\n",
       " 1.5559377e-06: 1,\n",
       " 1.556285e-06: 1,\n",
       " 1.5585664e-06: 1,\n",
       " 1.5587923e-06: 1,\n",
       " 1.5630781e-06: 1,\n",
       " 1.5639638e-06: 1,\n",
       " 1.5682488e-06: 1,\n",
       " 1.5714016e-06: 1,\n",
       " 1.5732985e-06: 1,\n",
       " 1.5749379e-06: 1,\n",
       " 1.5751045e-06: 1,\n",
       " 1.5770752e-06: 1,\n",
       " 1.5787906e-06: 1,\n",
       " 1.5841704e-06: 1,\n",
       " 1.5885214e-06: 1,\n",
       " 1.5905648e-06: 1,\n",
       " 1.5910853e-06: 1,\n",
       " 1.5911293e-06: 1,\n",
       " 1.5927355e-06: 1,\n",
       " 1.5963623e-06: 1,\n",
       " 1.5988396e-06: 1,\n",
       " 1.6022084e-06: 1,\n",
       " 1.6049626e-06: 1,\n",
       " 1.6052795e-06: 1,\n",
       " 1.6063867e-06: 1,\n",
       " 1.6064633e-06: 1,\n",
       " 1.6083443e-06: 1,\n",
       " 1.6084363e-06: 1,\n",
       " 1.6100846e-06: 1,\n",
       " 1.6103502e-06: 1,\n",
       " 1.6148855e-06: 1,\n",
       " 1.6152167e-06: 1,\n",
       " 1.6156743e-06: 1,\n",
       " 1.6166114e-06: 1,\n",
       " 1.6167994e-06: 1,\n",
       " 1.619097e-06: 1,\n",
       " 1.6192776e-06: 1,\n",
       " 1.620121e-06: 1,\n",
       " 1.6233488e-06: 1,\n",
       " 1.6235439e-06: 1,\n",
       " 1.6246079e-06: 1,\n",
       " 1.6272688e-06: 1,\n",
       " 1.6282731e-06: 1,\n",
       " 1.6323747e-06: 1,\n",
       " 1.6347271e-06: 1,\n",
       " 1.6349345e-06: 1,\n",
       " 1.6392075e-06: 1,\n",
       " 1.6407419e-06: 1,\n",
       " 1.6429354e-06: 1,\n",
       " 1.6453674e-06: 1,\n",
       " 1.6502405e-06: 1,\n",
       " 1.6523161e-06: 1,\n",
       " 1.6528913e-06: 1,\n",
       " 1.6539652e-06: 1,\n",
       " 1.6545441e-06: 1,\n",
       " 1.6545931e-06: 1,\n",
       " 1.6597689e-06: 1,\n",
       " 1.660475e-06: 1,\n",
       " 1.6651245e-06: 1,\n",
       " 1.6657948e-06: 1,\n",
       " 1.668154e-06: 1,\n",
       " 1.6686902e-06: 1,\n",
       " 1.6699271e-06: 1,\n",
       " 1.6738414e-06: 1,\n",
       " 1.6751366e-06: 1,\n",
       " 1.675739e-06: 1,\n",
       " 1.6807918e-06: 1,\n",
       " 1.6819079e-06: 1,\n",
       " 1.688183e-06: 1,\n",
       " 1.6943605e-06: 1,\n",
       " 1.6944688e-06: 1,\n",
       " 1.6947743e-06: 1,\n",
       " 1.6949924e-06: 1,\n",
       " 1.6966663e-06: 1,\n",
       " 1.7022043e-06: 1,\n",
       " 1.7031282e-06: 1,\n",
       " 1.7140667e-06: 1,\n",
       " 1.7143625e-06: 1,\n",
       " 1.7151344e-06: 1,\n",
       " 1.721642e-06: 1,\n",
       " 1.7233028e-06: 1,\n",
       " 1.7247315e-06: 1,\n",
       " 1.7268926e-06: 1,\n",
       " 1.7276816e-06: 1,\n",
       " 1.7301367e-06: 1,\n",
       " 1.7348472e-06: 1,\n",
       " 1.7349382e-06: 1,\n",
       " 1.7401181e-06: 1,\n",
       " 1.7446129e-06: 1,\n",
       " 1.749538e-06: 1,\n",
       " 1.7529968e-06: 1,\n",
       " 1.7530587e-06: 1,\n",
       " 1.7582407e-06: 1,\n",
       " 1.7586549e-06: 1,\n",
       " 1.7613017e-06: 1,\n",
       " 1.7624831e-06: 1,\n",
       " 1.7652148e-06: 1,\n",
       " 1.7668266e-06: 1,\n",
       " 1.772073e-06: 1,\n",
       " 1.7745878e-06: 1,\n",
       " 1.7750804e-06: 1,\n",
       " 1.7772519e-06: 1,\n",
       " 1.7787271e-06: 1,\n",
       " 1.7800456e-06: 1,\n",
       " 1.784681e-06: 1,\n",
       " 1.7868233e-06: 1,\n",
       " 1.7881001e-06: 1,\n",
       " 1.7891867e-06: 1,\n",
       " 1.7926641e-06: 1,\n",
       " 1.7930026e-06: 1,\n",
       " 1.7933515e-06: 1,\n",
       " 1.7941743e-06: 1,\n",
       " 1.8023976e-06: 1,\n",
       " 1.8038903e-06: 1,\n",
       " 1.8050278e-06: 1,\n",
       " 1.8064434e-06: 1,\n",
       " 1.8064846e-06: 1,\n",
       " 1.8133078e-06: 1,\n",
       " 1.8146329e-06: 1,\n",
       " 1.8199935e-06: 1,\n",
       " 1.8212992e-06: 1,\n",
       " 1.8233012e-06: 1,\n",
       " 1.8254743e-06: 1,\n",
       " 1.832411e-06: 1,\n",
       " 1.8342608e-06: 1,\n",
       " 1.8351479e-06: 1,\n",
       " 1.8365748e-06: 1,\n",
       " 1.8386866e-06: 1,\n",
       " 1.8388287e-06: 1,\n",
       " 1.8402619e-06: 1,\n",
       " 1.8406621e-06: 1,\n",
       " 1.8437454e-06: 1,\n",
       " 1.8450364e-06: 1,\n",
       " 1.8523301e-06: 1,\n",
       " 1.8577135e-06: 1,\n",
       " 1.8631995e-06: 1,\n",
       " 1.8640828e-06: 1,\n",
       " 1.8644669e-06: 1,\n",
       " 1.8650858e-06: 1,\n",
       " 1.8675116e-06: 1,\n",
       " 1.8717785e-06: 1,\n",
       " 1.8733786e-06: 1,\n",
       " 1.8748889e-06: 1,\n",
       " 1.8750659e-06: 1,\n",
       " 1.8783609e-06: 1,\n",
       " 1.8794647e-06: 1,\n",
       " 1.8809924e-06: 1,\n",
       " 1.8837318e-06: 1,\n",
       " 1.8853026e-06: 1,\n",
       " 1.8863133e-06: 1,\n",
       " 1.8890713e-06: 1,\n",
       " 1.891063e-06: 1,\n",
       " 1.8915537e-06: 1,\n",
       " 1.8918765e-06: 1,\n",
       " 1.892557e-06: 1,\n",
       " 1.8945108e-06: 1,\n",
       " 1.8952354e-06: 1,\n",
       " 1.8958717e-06: 1,\n",
       " 1.896398e-06: 1,\n",
       " 1.8964757e-06: 1,\n",
       " 1.8973585e-06: 1,\n",
       " 1.8975269e-06: 1,\n",
       " 1.9001073e-06: 1,\n",
       " 1.9029018e-06: 1,\n",
       " 1.9030869e-06: 1,\n",
       " 1.9044377e-06: 1,\n",
       " 1.9062766e-06: 1,\n",
       " 1.9072075e-06: 1,\n",
       " 1.9087815e-06: 1,\n",
       " 1.9090637e-06: 1,\n",
       " 1.9139547e-06: 1,\n",
       " 1.9180147e-06: 1,\n",
       " 1.9185343e-06: 1,\n",
       " 1.9187796e-06: 1,\n",
       " 1.9202478e-06: 1,\n",
       " 1.923488e-06: 1,\n",
       " ...}"
      ]
     },
     "execution_count": 119,
     "metadata": {},
     "output_type": "execute_result"
    }
   ],
   "source": [
    "dic_count"
   ]
  },
  {
   "cell_type": "code",
   "execution_count": 108,
   "metadata": {},
   "outputs": [
    {
     "ename": "TypeError",
     "evalue": "unhashable type: 'numpy.ndarray'",
     "output_type": "error",
     "traceback": [
      "\u001b[1;31m---------------------------------------------------------------------------\u001b[0m",
      "\u001b[1;31mTypeError\u001b[0m                                 Traceback (most recent call last)",
      "\u001b[1;32m<ipython-input-108-2a3e85c38f6a>\u001b[0m in \u001b[0;36m<module>\u001b[1;34m\u001b[0m\n\u001b[0;32m      1\u001b[0m \u001b[1;32mimport\u001b[0m \u001b[0mcollections\u001b[0m\u001b[1;33m\u001b[0m\u001b[1;33m\u001b[0m\u001b[0m\n\u001b[1;32m----> 2\u001b[1;33m \u001b[0mcollections\u001b[0m\u001b[1;33m.\u001b[0m\u001b[0mCounter\u001b[0m\u001b[1;33m(\u001b[0m\u001b[0mprt\u001b[0m\u001b[1;33m)\u001b[0m\u001b[1;33m\u001b[0m\u001b[1;33m\u001b[0m\u001b[0m\n\u001b[0m",
      "\u001b[1;32m~\\anaconda3\\lib\\collections\\__init__.py\u001b[0m in \u001b[0;36m__init__\u001b[1;34m(*args, **kwds)\u001b[0m\n\u001b[0;32m    566\u001b[0m             \u001b[1;32mraise\u001b[0m \u001b[0mTypeError\u001b[0m\u001b[1;33m(\u001b[0m\u001b[1;34m'expected at most 1 arguments, got %d'\u001b[0m \u001b[1;33m%\u001b[0m \u001b[0mlen\u001b[0m\u001b[1;33m(\u001b[0m\u001b[0margs\u001b[0m\u001b[1;33m)\u001b[0m\u001b[1;33m)\u001b[0m\u001b[1;33m\u001b[0m\u001b[1;33m\u001b[0m\u001b[0m\n\u001b[0;32m    567\u001b[0m         \u001b[0msuper\u001b[0m\u001b[1;33m(\u001b[0m\u001b[0mCounter\u001b[0m\u001b[1;33m,\u001b[0m \u001b[0mself\u001b[0m\u001b[1;33m)\u001b[0m\u001b[1;33m.\u001b[0m\u001b[0m__init__\u001b[0m\u001b[1;33m(\u001b[0m\u001b[1;33m)\u001b[0m\u001b[1;33m\u001b[0m\u001b[1;33m\u001b[0m\u001b[0m\n\u001b[1;32m--> 568\u001b[1;33m         \u001b[0mself\u001b[0m\u001b[1;33m.\u001b[0m\u001b[0mupdate\u001b[0m\u001b[1;33m(\u001b[0m\u001b[1;33m*\u001b[0m\u001b[0margs\u001b[0m\u001b[1;33m,\u001b[0m \u001b[1;33m**\u001b[0m\u001b[0mkwds\u001b[0m\u001b[1;33m)\u001b[0m\u001b[1;33m\u001b[0m\u001b[1;33m\u001b[0m\u001b[0m\n\u001b[0m\u001b[0;32m    569\u001b[0m \u001b[1;33m\u001b[0m\u001b[0m\n\u001b[0;32m    570\u001b[0m     \u001b[1;32mdef\u001b[0m \u001b[0m__missing__\u001b[0m\u001b[1;33m(\u001b[0m\u001b[0mself\u001b[0m\u001b[1;33m,\u001b[0m \u001b[0mkey\u001b[0m\u001b[1;33m)\u001b[0m\u001b[1;33m:\u001b[0m\u001b[1;33m\u001b[0m\u001b[1;33m\u001b[0m\u001b[0m\n",
      "\u001b[1;32m~\\anaconda3\\lib\\collections\\__init__.py\u001b[0m in \u001b[0;36mupdate\u001b[1;34m(*args, **kwds)\u001b[0m\n\u001b[0;32m    653\u001b[0m                     \u001b[0msuper\u001b[0m\u001b[1;33m(\u001b[0m\u001b[0mCounter\u001b[0m\u001b[1;33m,\u001b[0m \u001b[0mself\u001b[0m\u001b[1;33m)\u001b[0m\u001b[1;33m.\u001b[0m\u001b[0mupdate\u001b[0m\u001b[1;33m(\u001b[0m\u001b[0miterable\u001b[0m\u001b[1;33m)\u001b[0m \u001b[1;31m# fast path when counter is empty\u001b[0m\u001b[1;33m\u001b[0m\u001b[1;33m\u001b[0m\u001b[0m\n\u001b[0;32m    654\u001b[0m             \u001b[1;32melse\u001b[0m\u001b[1;33m:\u001b[0m\u001b[1;33m\u001b[0m\u001b[1;33m\u001b[0m\u001b[0m\n\u001b[1;32m--> 655\u001b[1;33m                 \u001b[0m_count_elements\u001b[0m\u001b[1;33m(\u001b[0m\u001b[0mself\u001b[0m\u001b[1;33m,\u001b[0m \u001b[0miterable\u001b[0m\u001b[1;33m)\u001b[0m\u001b[1;33m\u001b[0m\u001b[1;33m\u001b[0m\u001b[0m\n\u001b[0m\u001b[0;32m    656\u001b[0m         \u001b[1;32mif\u001b[0m \u001b[0mkwds\u001b[0m\u001b[1;33m:\u001b[0m\u001b[1;33m\u001b[0m\u001b[1;33m\u001b[0m\u001b[0m\n\u001b[0;32m    657\u001b[0m             \u001b[0mself\u001b[0m\u001b[1;33m.\u001b[0m\u001b[0mupdate\u001b[0m\u001b[1;33m(\u001b[0m\u001b[0mkwds\u001b[0m\u001b[1;33m)\u001b[0m\u001b[1;33m\u001b[0m\u001b[1;33m\u001b[0m\u001b[0m\n",
      "\u001b[1;31mTypeError\u001b[0m: unhashable type: 'numpy.ndarray'"
     ]
    }
   ],
   "source": [
    "import collections\n",
    "collections.Counter(prt)"
   ]
  },
  {
   "cell_type": "code",
   "execution_count": 44,
   "metadata": {},
   "outputs": [
    {
     "name": "stdout",
     "output_type": "stream",
     "text": [
      "Model: \"sequential_4\"\n",
      "_________________________________________________________________\n",
      "Layer (type)                 Output Shape              Param #   \n",
      "=================================================================\n",
      "conv1d_2 (Conv1D)            (None, 29, 32)            12212512  \n",
      "_________________________________________________________________\n",
      "dropout (Dropout)            (None, 29, 32)            0         \n",
      "_________________________________________________________________\n",
      "flatten (Flatten)            (None, 928)               0         \n",
      "_________________________________________________________________\n",
      "dense (Dense)                (None, 1)                 929       \n",
      "=================================================================\n",
      "Total params: 12,213,441\n",
      "Trainable params: 12,213,441\n",
      "Non-trainable params: 0\n",
      "_________________________________________________________________\n"
     ]
    }
   ],
   "source": [
    "model.summary()"
   ]
  },
  {
   "cell_type": "code",
   "execution_count": 12,
   "metadata": {},
   "outputs": [
    {
     "data": {
      "text/plain": [
       "(284807, 31)"
      ]
     },
     "execution_count": 12,
     "metadata": {},
     "output_type": "execute_result"
    }
   ],
   "source": [
    "cred_fr.shape"
   ]
  },
  {
   "cell_type": "code",
   "execution_count": 8,
   "metadata": {},
   "outputs": [
    {
     "data": {
      "text/plain": [
       "0    284315\n",
       "1       492\n",
       "Name: Class, dtype: int64"
      ]
     },
     "execution_count": 8,
     "metadata": {},
     "output_type": "execute_result"
    }
   ],
   "source": [
    "cred_fr['Class'].value_counts()"
   ]
  },
  {
   "cell_type": "code",
   "execution_count": 7,
   "metadata": {},
   "outputs": [],
   "source": [
    "for i in cred_fr.columns:\n",
    "    try:\n",
    "        cred_fr[i]=pd.to_numeric(cred_fr[i])\n",
    "    except:\n",
    "        print(i)"
   ]
  },
  {
   "cell_type": "code",
   "execution_count": 9,
   "metadata": {},
   "outputs": [
    {
     "data": {
      "text/plain": [
       "0.0"
      ]
     },
     "execution_count": 9,
     "metadata": {},
     "output_type": "execute_result"
    }
   ],
   "source": [
    "0/3"
   ]
  },
  {
   "cell_type": "code",
   "execution_count": 9,
   "metadata": {},
   "outputs": [
    {
     "data": {
      "image/png": "[encoded data removed]",
      "text/plain": [
       "<Figure size 1080x504 with 1 Axes>"
      ]
     },
     "metadata": {
      "needs_background": "light"
     },
     "output_type": "display_data"
    }
   ],
   "source": [
    "plt.figure(figsize=(15, 7))\n",
    "plt.scatter(cred_fr.Time,cred_fr.Class)\n",
    "plt.title('Time Variation of Fraud')\n",
    "plt.grid(True)\n",
    "plt.show()"
   ]
  },
  {
   "cell_type": "code",
   "execution_count": 10,
   "metadata": {},
   "outputs": [
    {
     "data": {
      "image/png": "[encoded data removed]",
      "text/plain": [
       "<Figure size 1080x504 with 1 Axes>"
      ]
     },
     "metadata": {
      "needs_background": "light"
     },
     "output_type": "display_data"
    }
   ],
   "source": []
  },
  {
   "cell_type": "code",
   "execution_count": 4,
   "metadata": {},
   "outputs": [
    {
     "ename": "ValueError",
     "evalue": "Value of 'x' is not the name of a column in 'data_frame'. Expected one of ['date', 'GOOG', 'AAPL', 'AMZN', 'FB', 'NFLX', 'MSFT'] but received: Time",
     "output_type": "error",
     "traceback": [
      "\u001b[1;31m---------------------------------------------------------------------------\u001b[0m",
      "\u001b[1;31mValueError\u001b[0m                                Traceback (most recent call last)",
      "\u001b[1;32m<ipython-input-4-2c60388347a5>\u001b[0m in \u001b[0;36m<module>\u001b[1;34m\u001b[0m\n\u001b[0;32m      2\u001b[0m \u001b[0mdf\u001b[0m \u001b[1;33m=\u001b[0m \u001b[0mpx\u001b[0m\u001b[1;33m.\u001b[0m\u001b[0mdata\u001b[0m\u001b[1;33m.\u001b[0m\u001b[0mstocks\u001b[0m\u001b[1;33m(\u001b[0m\u001b[1;33m)\u001b[0m\u001b[1;33m\u001b[0m\u001b[1;33m\u001b[0m\u001b[0m\n\u001b[0;32m      3\u001b[0m fig = px.line(df, x=\"Time\", y=df.columns,\n\u001b[1;32m----> 4\u001b[1;33m               title='custom tick labels')\n\u001b[0m\u001b[0;32m      5\u001b[0m fig.update_xaxes(\n\u001b[0;32m      6\u001b[0m     \u001b[0mdtick\u001b[0m\u001b[1;33m=\u001b[0m\u001b[1;34m\"M1\"\u001b[0m\u001b[1;33m,\u001b[0m\u001b[1;33m\u001b[0m\u001b[1;33m\u001b[0m\u001b[0m\n",
      "\u001b[1;32m~\\anaconda3\\lib\\site-packages\\plotly\\express\\_chart_types.py\u001b[0m in \u001b[0;36mline\u001b[1;34m(data_frame, x, y, line_group, color, line_dash, hover_name, hover_data, custom_data, text, facet_row, facet_col, facet_col_wrap, facet_row_spacing, facet_col_spacing, error_x, error_x_minus, error_y, error_y_minus, animation_frame, animation_group, category_orders, labels, orientation, color_discrete_sequence, color_discrete_map, line_dash_sequence, line_dash_map, log_x, log_y, range_x, range_y, line_shape, render_mode, title, template, width, height)\u001b[0m\n\u001b[0;32m    250\u001b[0m     \u001b[0ma\u001b[0m \u001b[0mpolyline\u001b[0m \u001b[0mmark\u001b[0m \u001b[1;32min\u001b[0m \u001b[1;36m2\u001b[0m\u001b[0mD\u001b[0m \u001b[0mspace\u001b[0m\u001b[1;33m.\u001b[0m\u001b[1;33m\u001b[0m\u001b[1;33m\u001b[0m\u001b[0m\n\u001b[0;32m    251\u001b[0m     \"\"\"\n\u001b[1;32m--> 252\u001b[1;33m     \u001b[1;32mreturn\u001b[0m \u001b[0mmake_figure\u001b[0m\u001b[1;33m(\u001b[0m\u001b[0margs\u001b[0m\u001b[1;33m=\u001b[0m\u001b[0mlocals\u001b[0m\u001b[1;33m(\u001b[0m\u001b[1;33m)\u001b[0m\u001b[1;33m,\u001b[0m \u001b[0mconstructor\u001b[0m\u001b[1;33m=\u001b[0m\u001b[0mgo\u001b[0m\u001b[1;33m.\u001b[0m\u001b[0mScatter\u001b[0m\u001b[1;33m)\u001b[0m\u001b[1;33m\u001b[0m\u001b[1;33m\u001b[0m\u001b[0m\n\u001b[0m\u001b[0;32m    253\u001b[0m \u001b[1;33m\u001b[0m\u001b[0m\n\u001b[0;32m    254\u001b[0m \u001b[1;33m\u001b[0m\u001b[0m\n",
      "\u001b[1;32m~\\anaconda3\\lib\\site-packages\\plotly\\express\\_core.py\u001b[0m in \u001b[0;36mmake_figure\u001b[1;34m(args, constructor, trace_patch, layout_patch)\u001b[0m\n\u001b[0;32m   1859\u001b[0m     \u001b[0mapply_default_cascade\u001b[0m\u001b[1;33m(\u001b[0m\u001b[0margs\u001b[0m\u001b[1;33m)\u001b[0m\u001b[1;33m\u001b[0m\u001b[1;33m\u001b[0m\u001b[0m\n\u001b[0;32m   1860\u001b[0m \u001b[1;33m\u001b[0m\u001b[0m\n\u001b[1;32m-> 1861\u001b[1;33m     \u001b[0margs\u001b[0m \u001b[1;33m=\u001b[0m \u001b[0mbuild_dataframe\u001b[0m\u001b[1;33m(\u001b[0m\u001b[0margs\u001b[0m\u001b[1;33m,\u001b[0m \u001b[0mconstructor\u001b[0m\u001b[1;33m)\u001b[0m\u001b[1;33m\u001b[0m\u001b[1;33m\u001b[0m\u001b[0m\n\u001b[0m\u001b[0;32m   1862\u001b[0m     \u001b[1;32mif\u001b[0m \u001b[0mconstructor\u001b[0m \u001b[1;32min\u001b[0m \u001b[1;33m[\u001b[0m\u001b[0mgo\u001b[0m\u001b[1;33m.\u001b[0m\u001b[0mTreemap\u001b[0m\u001b[1;33m,\u001b[0m \u001b[0mgo\u001b[0m\u001b[1;33m.\u001b[0m\u001b[0mSunburst\u001b[0m\u001b[1;33m]\u001b[0m \u001b[1;32mand\u001b[0m \u001b[0margs\u001b[0m\u001b[1;33m[\u001b[0m\u001b[1;34m\"path\"\u001b[0m\u001b[1;33m]\u001b[0m \u001b[1;32mis\u001b[0m \u001b[1;32mnot\u001b[0m \u001b[1;32mNone\u001b[0m\u001b[1;33m:\u001b[0m\u001b[1;33m\u001b[0m\u001b[1;33m\u001b[0m\u001b[0m\n\u001b[0;32m   1863\u001b[0m         \u001b[0margs\u001b[0m \u001b[1;33m=\u001b[0m \u001b[0mprocess_dataframe_hierarchy\u001b[0m\u001b[1;33m(\u001b[0m\u001b[0margs\u001b[0m\u001b[1;33m)\u001b[0m\u001b[1;33m\u001b[0m\u001b[1;33m\u001b[0m\u001b[0m\n",
      "\u001b[1;32m~\\anaconda3\\lib\\site-packages\\plotly\\express\\_core.py\u001b[0m in \u001b[0;36mbuild_dataframe\u001b[1;34m(args, constructor)\u001b[0m\n\u001b[0;32m   1376\u001b[0m \u001b[1;33m\u001b[0m\u001b[0m\n\u001b[0;32m   1377\u001b[0m     df_output, wide_id_vars = process_args_into_dataframe(\n\u001b[1;32m-> 1378\u001b[1;33m         \u001b[0margs\u001b[0m\u001b[1;33m,\u001b[0m \u001b[0mwide_mode\u001b[0m\u001b[1;33m,\u001b[0m \u001b[0mvar_name\u001b[0m\u001b[1;33m,\u001b[0m \u001b[0mvalue_name\u001b[0m\u001b[1;33m\u001b[0m\u001b[1;33m\u001b[0m\u001b[0m\n\u001b[0m\u001b[0;32m   1379\u001b[0m     )\n\u001b[0;32m   1380\u001b[0m \u001b[1;33m\u001b[0m\u001b[0m\n",
      "\u001b[1;32m~\\anaconda3\\lib\\site-packages\\plotly\\express\\_core.py\u001b[0m in \u001b[0;36mprocess_args_into_dataframe\u001b[1;34m(args, wide_mode, var_name, value_name)\u001b[0m\n\u001b[0;32m   1181\u001b[0m                         \u001b[1;32mif\u001b[0m \u001b[0margument\u001b[0m \u001b[1;33m==\u001b[0m \u001b[1;34m\"index\"\u001b[0m\u001b[1;33m:\u001b[0m\u001b[1;33m\u001b[0m\u001b[1;33m\u001b[0m\u001b[0m\n\u001b[0;32m   1182\u001b[0m                             \u001b[0merr_msg\u001b[0m \u001b[1;33m+=\u001b[0m \u001b[1;34m\"\\n To use the index, pass it in directly as `df.index`.\"\u001b[0m\u001b[1;33m\u001b[0m\u001b[1;33m\u001b[0m\u001b[0m\n\u001b[1;32m-> 1183\u001b[1;33m                         \u001b[1;32mraise\u001b[0m \u001b[0mValueError\u001b[0m\u001b[1;33m(\u001b[0m\u001b[0merr_msg\u001b[0m\u001b[1;33m)\u001b[0m\u001b[1;33m\u001b[0m\u001b[1;33m\u001b[0m\u001b[0m\n\u001b[0m\u001b[0;32m   1184\u001b[0m                 \u001b[1;32melif\u001b[0m \u001b[0mlength\u001b[0m \u001b[1;32mand\u001b[0m \u001b[0mlen\u001b[0m\u001b[1;33m(\u001b[0m\u001b[0mdf_input\u001b[0m\u001b[1;33m[\u001b[0m\u001b[0margument\u001b[0m\u001b[1;33m]\u001b[0m\u001b[1;33m)\u001b[0m \u001b[1;33m!=\u001b[0m \u001b[0mlength\u001b[0m\u001b[1;33m:\u001b[0m\u001b[1;33m\u001b[0m\u001b[1;33m\u001b[0m\u001b[0m\n\u001b[0;32m   1185\u001b[0m                     raise ValueError(\n",
      "\u001b[1;31mValueError\u001b[0m: Value of 'x' is not the name of a column in 'data_frame'. Expected one of ['date', 'GOOG', 'AAPL', 'AMZN', 'FB', 'NFLX', 'MSFT'] but received: Time"
     ]
    }
   ],
   "source": []
  },
  {
   "cell_type": "code",
   "execution_count": 23,
   "metadata": {},
   "outputs": [
    {
     "data": {
      "image/png": "[encoded data removed]",
      "text/plain": [
       "<Figure size 432x288 with 1 Axes>"
      ]
     },
     "metadata": {
      "needs_background": "light"
     },
     "output_type": "display_data"
    }
   ],
   "source": [
    "#sns.lineplot(x=\"Time\", y=\"Class\",data=cred_fr)\n",
    "#sns.catplot(x=\"Time\", y=\"Amount\", hue=\"Class\", data=cred_fr)\n",
    "import numpy as np\n",
    "df = pd.DataFrame({\"x\" : np.random.choice([1,17,99], size=100),\n",
    "                   \"y\" : np.random.rand(100)*100})\n",
    "\n",
    "plt.scatter(cred_fr[\"Class\"],cred_fr[\"Time\"])\n",
    "plt.margins(x=0.5)\n",
    "plt.show()"
   ]
  },
  {
   "cell_type": "code",
   "execution_count": 12,
   "metadata": {
    "scrolled": true
   },
   "outputs": [
    {
     "ename": "ValueError",
     "evalue": "Could not interpret input 'region'",
     "output_type": "error",
     "traceback": [
      "\u001b[1;31m---------------------------------------------------------------------------\u001b[0m",
      "\u001b[1;31mValueError\u001b[0m                                Traceback (most recent call last)",
      "\u001b[1;32m<ipython-input-12-58a6eb5f8c62>\u001b[0m in \u001b[0;36m<module>\u001b[1;34m\u001b[0m\n\u001b[0;32m      1\u001b[0m sns.lineplot(x=\"Time\", y=\"Class\",\n\u001b[0;32m      2\u001b[0m              \u001b[0mhue\u001b[0m\u001b[1;33m=\u001b[0m\u001b[1;34m\"region\"\u001b[0m\u001b[1;33m,\u001b[0m \u001b[0mstyle\u001b[0m\u001b[1;33m=\u001b[0m\u001b[1;34m\"event\"\u001b[0m\u001b[1;33m,\u001b[0m\u001b[1;33m\u001b[0m\u001b[1;33m\u001b[0m\u001b[0m\n\u001b[1;32m----> 3\u001b[1;33m              data=cred_fr)\n\u001b[0m",
      "\u001b[1;32m~\\anaconda3\\lib\\site-packages\\seaborn\\relational.py\u001b[0m in \u001b[0;36mlineplot\u001b[1;34m(x, y, hue, size, style, data, palette, hue_order, hue_norm, sizes, size_order, size_norm, dashes, markers, style_order, units, estimator, ci, n_boot, seed, sort, err_style, err_kws, legend, ax, **kwargs)\u001b[0m\n\u001b[0;32m   1129\u001b[0m         \u001b[0mdashes\u001b[0m\u001b[1;33m=\u001b[0m\u001b[0mdashes\u001b[0m\u001b[1;33m,\u001b[0m \u001b[0mmarkers\u001b[0m\u001b[1;33m=\u001b[0m\u001b[0mmarkers\u001b[0m\u001b[1;33m,\u001b[0m \u001b[0mstyle_order\u001b[0m\u001b[1;33m=\u001b[0m\u001b[0mstyle_order\u001b[0m\u001b[1;33m,\u001b[0m\u001b[1;33m\u001b[0m\u001b[1;33m\u001b[0m\u001b[0m\n\u001b[0;32m   1130\u001b[0m         \u001b[0munits\u001b[0m\u001b[1;33m=\u001b[0m\u001b[0munits\u001b[0m\u001b[1;33m,\u001b[0m \u001b[0mestimator\u001b[0m\u001b[1;33m=\u001b[0m\u001b[0mestimator\u001b[0m\u001b[1;33m,\u001b[0m \u001b[0mci\u001b[0m\u001b[1;33m=\u001b[0m\u001b[0mci\u001b[0m\u001b[1;33m,\u001b[0m \u001b[0mn_boot\u001b[0m\u001b[1;33m=\u001b[0m\u001b[0mn_boot\u001b[0m\u001b[1;33m,\u001b[0m \u001b[0mseed\u001b[0m\u001b[1;33m=\u001b[0m\u001b[0mseed\u001b[0m\u001b[1;33m,\u001b[0m\u001b[1;33m\u001b[0m\u001b[1;33m\u001b[0m\u001b[0m\n\u001b[1;32m-> 1131\u001b[1;33m         \u001b[0msort\u001b[0m\u001b[1;33m=\u001b[0m\u001b[0msort\u001b[0m\u001b[1;33m,\u001b[0m \u001b[0merr_style\u001b[0m\u001b[1;33m=\u001b[0m\u001b[0merr_style\u001b[0m\u001b[1;33m,\u001b[0m \u001b[0merr_kws\u001b[0m\u001b[1;33m=\u001b[0m\u001b[0merr_kws\u001b[0m\u001b[1;33m,\u001b[0m \u001b[0mlegend\u001b[0m\u001b[1;33m=\u001b[0m\u001b[0mlegend\u001b[0m\u001b[1;33m,\u001b[0m\u001b[1;33m\u001b[0m\u001b[1;33m\u001b[0m\u001b[0m\n\u001b[0m\u001b[0;32m   1132\u001b[0m     )\n\u001b[0;32m   1133\u001b[0m \u001b[1;33m\u001b[0m\u001b[0m\n",
      "\u001b[1;32m~\\anaconda3\\lib\\site-packages\\seaborn\\relational.py\u001b[0m in \u001b[0;36m__init__\u001b[1;34m(self, x, y, hue, size, style, data, palette, hue_order, hue_norm, sizes, size_order, size_norm, dashes, markers, style_order, units, estimator, ci, n_boot, seed, sort, err_style, err_kws, legend)\u001b[0m\n\u001b[0;32m    698\u001b[0m \u001b[1;33m\u001b[0m\u001b[0m\n\u001b[0;32m    699\u001b[0m         plot_data = self.establish_variables(\n\u001b[1;32m--> 700\u001b[1;33m             \u001b[0mx\u001b[0m\u001b[1;33m,\u001b[0m \u001b[0my\u001b[0m\u001b[1;33m,\u001b[0m \u001b[0mhue\u001b[0m\u001b[1;33m,\u001b[0m \u001b[0msize\u001b[0m\u001b[1;33m,\u001b[0m \u001b[0mstyle\u001b[0m\u001b[1;33m,\u001b[0m \u001b[0munits\u001b[0m\u001b[1;33m,\u001b[0m \u001b[0mdata\u001b[0m\u001b[1;33m\u001b[0m\u001b[1;33m\u001b[0m\u001b[0m\n\u001b[0m\u001b[0;32m    701\u001b[0m         )\n\u001b[0;32m    702\u001b[0m \u001b[1;33m\u001b[0m\u001b[0m\n",
      "\u001b[1;32m~\\anaconda3\\lib\\site-packages\\seaborn\\relational.py\u001b[0m in \u001b[0;36mestablish_variables\u001b[1;34m(self, x, y, hue, size, style, units, data)\u001b[0m\n\u001b[0;32m    140\u001b[0m                 \u001b[1;32mif\u001b[0m \u001b[0misinstance\u001b[0m\u001b[1;33m(\u001b[0m\u001b[0mvar\u001b[0m\u001b[1;33m,\u001b[0m \u001b[0mstr\u001b[0m\u001b[1;33m)\u001b[0m\u001b[1;33m:\u001b[0m\u001b[1;33m\u001b[0m\u001b[1;33m\u001b[0m\u001b[0m\n\u001b[0;32m    141\u001b[0m                     \u001b[0merr\u001b[0m \u001b[1;33m=\u001b[0m \u001b[1;34m\"Could not interpret input '{}'\"\u001b[0m\u001b[1;33m.\u001b[0m\u001b[0mformat\u001b[0m\u001b[1;33m(\u001b[0m\u001b[0mvar\u001b[0m\u001b[1;33m)\u001b[0m\u001b[1;33m\u001b[0m\u001b[1;33m\u001b[0m\u001b[0m\n\u001b[1;32m--> 142\u001b[1;33m                     \u001b[1;32mraise\u001b[0m \u001b[0mValueError\u001b[0m\u001b[1;33m(\u001b[0m\u001b[0merr\u001b[0m\u001b[1;33m)\u001b[0m\u001b[1;33m\u001b[0m\u001b[1;33m\u001b[0m\u001b[0m\n\u001b[0m\u001b[0;32m    143\u001b[0m \u001b[1;33m\u001b[0m\u001b[0m\n\u001b[0;32m    144\u001b[0m             \u001b[1;31m# Extract variable names\u001b[0m\u001b[1;33m\u001b[0m\u001b[1;33m\u001b[0m\u001b[1;33m\u001b[0m\u001b[0m\n",
      "\u001b[1;31mValueError\u001b[0m: Could not interpret input 'region'"
     ]
    }
   ],
   "source": [
    "sns.lineplot(x=\"Time\", y=\"Class\",\n",
    "             hue=\"region\", style=\"event\",\n",
    "             data=cred_fr)"
   ]
  },
  {
   "cell_type": "code",
   "execution_count": 10,
   "metadata": {},
   "outputs": [
    {
     "ename": "KeyError",
     "evalue": "'time'",
     "output_type": "error",
     "traceback": [
      "\u001b[1;31m---------------------------------------------------------------------------\u001b[0m",
      "\u001b[1;31mKeyError\u001b[0m                                  Traceback (most recent call last)",
      "\u001b[1;32m~\\anaconda3\\lib\\site-packages\\pandas\\core\\indexes\\base.py\u001b[0m in \u001b[0;36mget_loc\u001b[1;34m(self, key, method, tolerance)\u001b[0m\n\u001b[0;32m   2645\u001b[0m             \u001b[1;32mtry\u001b[0m\u001b[1;33m:\u001b[0m\u001b[1;33m\u001b[0m\u001b[1;33m\u001b[0m\u001b[0m\n\u001b[1;32m-> 2646\u001b[1;33m                 \u001b[1;32mreturn\u001b[0m \u001b[0mself\u001b[0m\u001b[1;33m.\u001b[0m\u001b[0m_engine\u001b[0m\u001b[1;33m.\u001b[0m\u001b[0mget_loc\u001b[0m\u001b[1;33m(\u001b[0m\u001b[0mkey\u001b[0m\u001b[1;33m)\u001b[0m\u001b[1;33m\u001b[0m\u001b[1;33m\u001b[0m\u001b[0m\n\u001b[0m\u001b[0;32m   2647\u001b[0m             \u001b[1;32mexcept\u001b[0m \u001b[0mKeyError\u001b[0m\u001b[1;33m:\u001b[0m\u001b[1;33m\u001b[0m\u001b[1;33m\u001b[0m\u001b[0m\n",
      "\u001b[1;32mpandas\\_libs\\index.pyx\u001b[0m in \u001b[0;36mpandas._libs.index.IndexEngine.get_loc\u001b[1;34m()\u001b[0m\n",
      "\u001b[1;32mpandas\\_libs\\index.pyx\u001b[0m in \u001b[0;36mpandas._libs.index.IndexEngine.get_loc\u001b[1;34m()\u001b[0m\n",
      "\u001b[1;32mpandas\\_libs\\hashtable_class_helper.pxi\u001b[0m in \u001b[0;36mpandas._libs.hashtable.PyObjectHashTable.get_item\u001b[1;34m()\u001b[0m\n",
      "\u001b[1;32mpandas\\_libs\\hashtable_class_helper.pxi\u001b[0m in \u001b[0;36mpandas._libs.hashtable.PyObjectHashTable.get_item\u001b[1;34m()\u001b[0m\n",
      "\u001b[1;31mKeyError\u001b[0m: 'time'",
      "\nDuring handling of the above exception, another exception occurred:\n",
      "\u001b[1;31mKeyError\u001b[0m                                  Traceback (most recent call last)",
      "\u001b[1;32m<ipython-input-10-ea65b44bdd5a>\u001b[0m in \u001b[0;36m<module>\u001b[1;34m\u001b[0m\n\u001b[1;32m----> 1\u001b[1;33m \u001b[0mcred_fr\u001b[0m\u001b[1;33m[\u001b[0m\u001b[1;34m'time'\u001b[0m\u001b[1;33m]\u001b[0m\u001b[1;33m.\u001b[0m\u001b[0mvalue_counts\u001b[0m\u001b[1;33m(\u001b[0m\u001b[1;33m)\u001b[0m\u001b[1;33m\u001b[0m\u001b[1;33m\u001b[0m\u001b[0m\n\u001b[0m",
      "\u001b[1;32m~\\anaconda3\\lib\\site-packages\\pandas\\core\\frame.py\u001b[0m in \u001b[0;36m__getitem__\u001b[1;34m(self, key)\u001b[0m\n\u001b[0;32m   2798\u001b[0m             \u001b[1;32mif\u001b[0m \u001b[0mself\u001b[0m\u001b[1;33m.\u001b[0m\u001b[0mcolumns\u001b[0m\u001b[1;33m.\u001b[0m\u001b[0mnlevels\u001b[0m \u001b[1;33m>\u001b[0m \u001b[1;36m1\u001b[0m\u001b[1;33m:\u001b[0m\u001b[1;33m\u001b[0m\u001b[1;33m\u001b[0m\u001b[0m\n\u001b[0;32m   2799\u001b[0m                 \u001b[1;32mreturn\u001b[0m \u001b[0mself\u001b[0m\u001b[1;33m.\u001b[0m\u001b[0m_getitem_multilevel\u001b[0m\u001b[1;33m(\u001b[0m\u001b[0mkey\u001b[0m\u001b[1;33m)\u001b[0m\u001b[1;33m\u001b[0m\u001b[1;33m\u001b[0m\u001b[0m\n\u001b[1;32m-> 2800\u001b[1;33m             \u001b[0mindexer\u001b[0m \u001b[1;33m=\u001b[0m \u001b[0mself\u001b[0m\u001b[1;33m.\u001b[0m\u001b[0mcolumns\u001b[0m\u001b[1;33m.\u001b[0m\u001b[0mget_loc\u001b[0m\u001b[1;33m(\u001b[0m\u001b[0mkey\u001b[0m\u001b[1;33m)\u001b[0m\u001b[1;33m\u001b[0m\u001b[1;33m\u001b[0m\u001b[0m\n\u001b[0m\u001b[0;32m   2801\u001b[0m             \u001b[1;32mif\u001b[0m \u001b[0mis_integer\u001b[0m\u001b[1;33m(\u001b[0m\u001b[0mindexer\u001b[0m\u001b[1;33m)\u001b[0m\u001b[1;33m:\u001b[0m\u001b[1;33m\u001b[0m\u001b[1;33m\u001b[0m\u001b[0m\n\u001b[0;32m   2802\u001b[0m                 \u001b[0mindexer\u001b[0m \u001b[1;33m=\u001b[0m \u001b[1;33m[\u001b[0m\u001b[0mindexer\u001b[0m\u001b[1;33m]\u001b[0m\u001b[1;33m\u001b[0m\u001b[1;33m\u001b[0m\u001b[0m\n",
      "\u001b[1;32m~\\anaconda3\\lib\\site-packages\\pandas\\core\\indexes\\base.py\u001b[0m in \u001b[0;36mget_loc\u001b[1;34m(self, key, method, tolerance)\u001b[0m\n\u001b[0;32m   2646\u001b[0m                 \u001b[1;32mreturn\u001b[0m \u001b[0mself\u001b[0m\u001b[1;33m.\u001b[0m\u001b[0m_engine\u001b[0m\u001b[1;33m.\u001b[0m\u001b[0mget_loc\u001b[0m\u001b[1;33m(\u001b[0m\u001b[0mkey\u001b[0m\u001b[1;33m)\u001b[0m\u001b[1;33m\u001b[0m\u001b[1;33m\u001b[0m\u001b[0m\n\u001b[0;32m   2647\u001b[0m             \u001b[1;32mexcept\u001b[0m \u001b[0mKeyError\u001b[0m\u001b[1;33m:\u001b[0m\u001b[1;33m\u001b[0m\u001b[1;33m\u001b[0m\u001b[0m\n\u001b[1;32m-> 2648\u001b[1;33m                 \u001b[1;32mreturn\u001b[0m \u001b[0mself\u001b[0m\u001b[1;33m.\u001b[0m\u001b[0m_engine\u001b[0m\u001b[1;33m.\u001b[0m\u001b[0mget_loc\u001b[0m\u001b[1;33m(\u001b[0m\u001b[0mself\u001b[0m\u001b[1;33m.\u001b[0m\u001b[0m_maybe_cast_indexer\u001b[0m\u001b[1;33m(\u001b[0m\u001b[0mkey\u001b[0m\u001b[1;33m)\u001b[0m\u001b[1;33m)\u001b[0m\u001b[1;33m\u001b[0m\u001b[1;33m\u001b[0m\u001b[0m\n\u001b[0m\u001b[0;32m   2649\u001b[0m         \u001b[0mindexer\u001b[0m \u001b[1;33m=\u001b[0m \u001b[0mself\u001b[0m\u001b[1;33m.\u001b[0m\u001b[0mget_indexer\u001b[0m\u001b[1;33m(\u001b[0m\u001b[1;33m[\u001b[0m\u001b[0mkey\u001b[0m\u001b[1;33m]\u001b[0m\u001b[1;33m,\u001b[0m \u001b[0mmethod\u001b[0m\u001b[1;33m=\u001b[0m\u001b[0mmethod\u001b[0m\u001b[1;33m,\u001b[0m \u001b[0mtolerance\u001b[0m\u001b[1;33m=\u001b[0m\u001b[0mtolerance\u001b[0m\u001b[1;33m)\u001b[0m\u001b[1;33m\u001b[0m\u001b[1;33m\u001b[0m\u001b[0m\n\u001b[0;32m   2650\u001b[0m         \u001b[1;32mif\u001b[0m \u001b[0mindexer\u001b[0m\u001b[1;33m.\u001b[0m\u001b[0mndim\u001b[0m \u001b[1;33m>\u001b[0m \u001b[1;36m1\u001b[0m \u001b[1;32mor\u001b[0m \u001b[0mindexer\u001b[0m\u001b[1;33m.\u001b[0m\u001b[0msize\u001b[0m \u001b[1;33m>\u001b[0m \u001b[1;36m1\u001b[0m\u001b[1;33m:\u001b[0m\u001b[1;33m\u001b[0m\u001b[1;33m\u001b[0m\u001b[0m\n",
      "\u001b[1;32mpandas\\_libs\\index.pyx\u001b[0m in \u001b[0;36mpandas._libs.index.IndexEngine.get_loc\u001b[1;34m()\u001b[0m\n",
      "\u001b[1;32mpandas\\_libs\\index.pyx\u001b[0m in \u001b[0;36mpandas._libs.index.IndexEngine.get_loc\u001b[1;34m()\u001b[0m\n",
      "\u001b[1;32mpandas\\_libs\\hashtable_class_helper.pxi\u001b[0m in \u001b[0;36mpandas._libs.hashtable.PyObjectHashTable.get_item\u001b[1;34m()\u001b[0m\n",
      "\u001b[1;32mpandas\\_libs\\hashtable_class_helper.pxi\u001b[0m in \u001b[0;36mpandas._libs.hashtable.PyObjectHashTable.get_item\u001b[1;34m()\u001b[0m\n",
      "\u001b[1;31mKeyError\u001b[0m: 'time'"
     ]
    }
   ],
   "source": [
    "cred_fr['Class'].value_counts()"
   ]
  }
 ],
 "metadata": {
  "kernelspec": {
   "display_name": "Python 3",
   "language": "python",
   "name": "python3"
  },
  "language_info": {
   "codemirror_mode": {
    "name": "ipython",
    "version": 3
   },
   "file_extension": ".py",
   "mimetype": "text/x-python",
   "name": "python",
   "nbconvert_exporter": "python",
   "pygments_lexer": "ipython3",
   "version": "3.7.6"
  }
 },
 "nbformat": 4,
 "nbformat_minor": 4
}
